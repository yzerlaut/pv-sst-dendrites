{
 "cells": [
  {
   "cell_type": "code",
   "execution_count": 1,
   "id": "9220b22a",
   "metadata": {},
   "outputs": [],
   "source": [
    "import sys, os\n",
    "\n",
    "import numpy as np\n",
    "\n",
    "sys.path.append('../neural_network_dynamics/')\n",
    "import nrn\n",
    "from nrn.plot import nrnvyz\n",
    "from utils import plot_tools as pt"
   ]
  },
  {
   "cell_type": "markdown",
   "id": "424ee0b6",
   "metadata": {},
   "source": [
    "## Load morphology"
   ]
  },
  {
   "cell_type": "code",
   "execution_count": 2,
   "id": "3514b5d0",
   "metadata": {},
   "outputs": [],
   "source": [
    "Model = {\n",
    "    #################################################\n",
    "    # ---------- MORPHOLOGY PARAMS  --------------- #\n",
    "    #################################################\n",
    "    'Nbranch':4, # \n",
    "    'branch_length':100, # [um]\n",
    "    'radius_soma':10, # [um]\n",
    "    'diameter_root_dendrite':1.0, # [um]\n",
    "    'nseg_per_branch': 10,\n",
    "    ##################################################\n",
    "    # ---------- BIOPHYSICAL PROPS ----------------- #\n",
    "    ##################################################\n",
    "    \"gL\": 0.5, # [pS/um2] = 10*[S/m2] # FITTED --- Farinella et al. 0.5pS/um2 = 0.5*1e-12*1e12 S/m2, NEURON default: 1mS/cm2 -> 10pS/um2\n",
    "    \"cm\": 1., # [uF/cm2] NEURON default\n",
    "    \"Ri\": 100., # [Ohm*cm]\n",
    "    \"EL\": -75, # [mV]\n",
    "    #################################################\n",
    "    # ---------- MG-BLOCK PARAMS  ----------------- #\n",
    "    #################################################\n",
    "    'cMg': 1., # mM\n",
    "    'etaMg': 0.33, # 1/mM\n",
    "    'V0NMDA':1./0.08,# [mV]\n",
    "    'Mg_NMDA':1.,# mM\n",
    "    #################################################\n",
    "    # ---------- SYNAPTIC PARAMS  ----------------- #\n",
    "    #################################################\n",
    "    'Ee':0,# [mV]\n",
    "    'qAMPA':0.3,# [nS] # Destexhe et al., 1998: \"0.35 to 1.0 nS\"\n",
    "    'qNMDAtoAMPAratio': 2.5,\n",
    "    'tauRiseAMPA':0.5,# [ms], Destexhe et al. 1998: 0.4 to 0.8 ms\n",
    "    'tauDecayAMPA':5,# [ms], Destexhe et al. 1998: \"the decay time constant is about 5 ms (e.g., Hestrin, 1993)\"\n",
    "    'tauRiseNMDA': 3,# [ms], Farinella et al., 2014\n",
    "    'tauDecayNMDA': 70,# [ms], FITTED --- Destexhe et al.:. 25-125ms, Farinella et al., 2014: 70ms\n",
    "    ###################################################\n",
    "    # ---------- SIMULATION PARAMS  ----------------- #\n",
    "    ###################################################\n",
    "    'dt':0.025,# [ms]\n",
    "    'seed':1, #\n",
    "    'interstim':250, # [ms]\n",
    "}    \n",
    "\n"
   ]
  },
  {
   "cell_type": "code",
   "execution_count": 3,
   "id": "84a43b97",
   "metadata": {},
   "outputs": [],
   "source": [
    "BRT = nrn.morphologies.BallandRallsTree.build_morpho(Nbranch=Model['Nbranch'],\n",
    "                                                     branch_length=Model['branch_length'],\n",
    "                                                     soma_radius=Model['radius_soma'],\n",
    "                                                     root_diameter=Model['diameter_root_dendrite'],\n",
    "                                                     Nperbranch=Model['nseg_per_branch'])\n",
    "FULL = nrn.morpho_analysis.compute_segments(BRT)\n",
    "SEGMENTS = nrn.morpho_analysis.compute_segments(BRT, without_axon=True)"
   ]
  },
  {
   "cell_type": "code",
   "execution_count": 4,
   "id": "caedb2e8",
   "metadata": {},
   "outputs": [
    {
     "data": {
      "image/png": "[encoded data removed]",
      "text/plain": [
       "<Figure size 600x195 with 2 Axes>"
      ]
     },
     "metadata": {},
     "output_type": "display_data"
    }
   ],
   "source": [
    "fig, [ax0, ax] = pt.plt.subplots(1, 2, figsize=(4,1.3))\n",
    "visFull, vis = nrnvyz(FULL), nrnvyz(SEGMENTS)\n",
    "visFull.plot_segments(ax=ax0, color='tab:grey')\n",
    "ax0.annotate('dendrite', (0,0), xycoords='axes fraction', fontsize=6, color='tab:blue')\n",
    "vis.plot_segments(ax=ax0, color='tab:blue')\n",
    "ax.hist(1e6*SEGMENTS['distance_to_soma'], density=True,\n",
    "        bins=np.linspace(0, Model['branch_length']*Model['Nbranch'],\n",
    "                        Model['nseg_per_branch']*Model['Nbranch']+1))\n",
    "ax.set_xlabel('path dist. to soma ($\\mu$m)')\n",
    "ax.set_ylabel('density')\n",
    "ax.set_yticks([]);"
   ]
  },
  {
   "cell_type": "markdown",
   "id": "65a5f189",
   "metadata": {},
   "source": [
    "## Distribute synapses on a single dendritic branch"
   ]
  },
  {
   "cell_type": "code",
   "execution_count": 5,
   "id": "bc225df6",
   "metadata": {
    "lines_to_next_cell": 2
   },
   "outputs": [
    {
     "data": {
      "image/png": "[encoded data removed]",
      "text/plain": [
       "<Figure size 300x300 with 1 Axes>"
      ]
     },
     "metadata": {},
     "output_type": "display_data"
    }
   ],
   "source": [
    "# select a given dendrite, the longest one !\n",
    "iEndDendrite = np.argmax(SEGMENTS['distance_to_soma'])\n",
    "SETS, i = [SEGMENTS['name'][iEndDendrite]], 0\n",
    "while (i<10) and len(SETS[-1].split('.'))>1:\n",
    "    new_name =  '.'.join(SETS[-1].split('.')[:-1])\n",
    "    SETS.append(new_name)\n",
    "    i+=1\n",
    "BRANCH_LOCS = []\n",
    "for i, name in enumerate(SEGMENTS['name']):\n",
    "    if name in SETS:\n",
    "        BRANCH_LOCS.append(i)\n",
    "\n",
    "fig, ax = pt.plt.subplots(1, figsize=(2,2))\n",
    "vis.plot_segments(ax=ax, color='tab:grey')\n",
    "vis.add_dots(ax, BRANCH_LOCS, 2)\n",
    "ax.set_title('n=%i segments' % len(SEGMENTS['name']), fontsize=6)\n",
    "BRANCH_LOCS = np.array(BRANCH_LOCS, dtype=int)"
   ]
  },
  {
   "cell_type": "code",
   "execution_count": 6,
   "id": "c093d2bb",
   "metadata": {},
   "outputs": [],
   "source": [
    "x = np.linspace(SEGMENTS['distance_to_soma'][BRANCH_LOCS].min(),\n",
    "                SEGMENTS['distance_to_soma'][BRANCH_LOCS].max(), len(BRANCH_LOCS))\n",
    "uniform = 0.5 +0*x\n",
    "uniform /= np.sum(uniform) #np.trapz(uniform, x=1e6*x)\n",
    "\n",
    "biased = 1.-(x-x.min())/(x.max()-x.min())\n",
    "biased /= np.sum(biased) # np.trapz(biased, x=1e6*x)"
   ]
  },
  {
   "cell_type": "code",
   "execution_count": 7,
   "id": "2ecd0be5",
   "metadata": {},
   "outputs": [
    {
     "ename": "ValueError",
     "evalue": "Fewer non-zero entries in p than size",
     "output_type": "error",
     "traceback": [
      "\u001b[0;31m---------------------------------------------------------------------------\u001b[0m",
      "\u001b[0;31mValueError\u001b[0m                                Traceback (most recent call last)",
      "Cell \u001b[0;32mIn[7], line 10\u001b[0m\n\u001b[1;32m      6\u001b[0m digitized_dist \u001b[38;5;241m=\u001b[39m np\u001b[38;5;241m.\u001b[39mdigitize(SEGMENTS[\u001b[38;5;124m'\u001b[39m\u001b[38;5;124mdistance_to_soma\u001b[39m\u001b[38;5;124m'\u001b[39m][BRANCH_LOCS], bins\u001b[38;5;241m=\u001b[39mx, right\u001b[38;5;241m=\u001b[39m\u001b[38;5;28;01mTrue\u001b[39;00m)\n\u001b[1;32m      8\u001b[0m \u001b[38;5;28;01mfor\u001b[39;00m case, proba \u001b[38;5;129;01min\u001b[39;00m \u001b[38;5;28mzip\u001b[39m([\u001b[38;5;124m'\u001b[39m\u001b[38;5;124muniform\u001b[39m\u001b[38;5;124m'\u001b[39m, \u001b[38;5;124m'\u001b[39m\u001b[38;5;124mproximally-biased\u001b[39m\u001b[38;5;124m'\u001b[39m], [uniform, biased]):\n\u001b[0;32m---> 10\u001b[0m     LOCS[case] \u001b[38;5;241m=\u001b[39m \u001b[43mnp\u001b[49m\u001b[38;5;241;43m.\u001b[39;49m\u001b[43mrandom\u001b[49m\u001b[38;5;241;43m.\u001b[39;49m\u001b[43mchoice\u001b[49m\u001b[43m(\u001b[49m\u001b[43mnp\u001b[49m\u001b[38;5;241;43m.\u001b[39;49m\u001b[43marange\u001b[49m\u001b[43m(\u001b[49m\u001b[38;5;28;43mlen\u001b[39;49m\u001b[43m(\u001b[49m\u001b[43mx\u001b[49m\u001b[43m)\u001b[49m\u001b[43m)\u001b[49m\u001b[43m,\u001b[49m\u001b[43m \u001b[49m\u001b[43mNsynapses\u001b[49m\u001b[43m,\u001b[49m\u001b[43m \u001b[49m\u001b[43mp\u001b[49m\u001b[38;5;241;43m=\u001b[39;49m\u001b[43mproba\u001b[49m\u001b[43m,\u001b[49m\u001b[43m \u001b[49m\u001b[43mreplace\u001b[49m\u001b[38;5;241;43m=\u001b[39;49m\u001b[38;5;28;43;01mFalse\u001b[39;49;00m\u001b[43m)\u001b[49m\n\u001b[1;32m     12\u001b[0m LOCS[\u001b[38;5;124m'\u001b[39m\u001b[38;5;124msingle-syn\u001b[39m\u001b[38;5;124m'\u001b[39m] \u001b[38;5;241m=\u001b[39m BRANCH_LOCS \u001b[38;5;66;03m# to have them all\u001b[39;00m\n\u001b[1;32m     14\u001b[0m fig, AX \u001b[38;5;241m=\u001b[39m pt\u001b[38;5;241m.\u001b[39mplt\u001b[38;5;241m.\u001b[39msubplots(\u001b[38;5;241m2\u001b[39m, \u001b[38;5;241m2\u001b[39m, figsize\u001b[38;5;241m=\u001b[39m(\u001b[38;5;241m7\u001b[39m,\u001b[38;5;241m5\u001b[39m))\n",
      "File \u001b[0;32mmtrand.pyx:972\u001b[0m, in \u001b[0;36mnumpy.random.mtrand.RandomState.choice\u001b[0;34m()\u001b[0m\n",
      "\u001b[0;31mValueError\u001b[0m: Fewer non-zero entries in p than size"
     ]
    }
   ],
   "source": [
    "Nsynapses = len(BRANCH_LOCS)\n",
    "\n",
    "np.random.seed(7)\n",
    "LOCS = {}\n",
    "\n",
    "digitized_dist = np.digitize(SEGMENTS['distance_to_soma'][BRANCH_LOCS], bins=x, right=True)\n",
    "\n",
    "for case, proba in zip(['uniform', 'proximally-biased'], [uniform, biased]):\n",
    "    \n",
    "    LOCS[case] = np.random.choice(np.arange(len(x)), Nsynapses, p=proba, replace=False)\n",
    "    \n",
    "LOCS['single-syn'] = BRANCH_LOCS # to have them all\n",
    "\n",
    "fig, AX = pt.plt.subplots(2, 2, figsize=(7,5))\n",
    "pt.plt.subplots_adjust(wspace=.2, hspace=.6)\n",
    "\n",
    "for c, y, case in zip(range(2), [uniform, biased], ['uniform', 'proximally-biased']):\n",
    "    \n",
    "    ax=pt.inset(AX[0][c], [0.3, 0.2, 0.4, 0.6])\n",
    "    ax.set_ylabel('synaptic density')\n",
    "    AX[0][c].axis('off')\n",
    "    ax.plot(1e6*x, y, '-', color='tab:grey', lw=2)\n",
    "    ax.set_yticks([0,0.1])\n",
    "    ax.set_title(case)\n",
    "    ax.set_xlabel('path dist. to soma ($\\mu$m)');\n",
    "    \n",
    "    vis.plot_segments(ax=AX[1][c], color='tab:grey')\n",
    "    vis.add_dots(AX[1][c], LOCS[case], 3)\n",
    "\n",
    "    inset = pt.inset(AX[1][c], [0.9, 0., 0.4, 0.3])\n",
    "    inset.hist(SEGMENTS['distance_to_soma'][LOCS[case]], bins=10, color='tab:red')\n",
    "    inset.set_xlabel('dist.', fontsize=7);inset.set_xticks([]);inset.set_yticks([])\n",
    "    inset.set_xlim([x.min(), x.max()])\n",
    "    inset.set_title('%i synapses' % Nsynapses, fontsize=6)"
   ]
  },
  {
   "cell_type": "code",
   "execution_count": null,
   "id": "8f68657b",
   "metadata": {},
   "outputs": [],
   "source": [
    "LOCS['biased'] = 1+np.arange(10)\n",
    "LOCS['uniform'] = 26+np.arange(10)\n",
    "LOCS"
   ]
  },
  {
   "cell_type": "markdown",
   "id": "b95af329",
   "metadata": {},
   "source": [
    "## Synaptic integration with \"uniform\" and \"biased\" distributions"
   ]
  },
  {
   "cell_type": "markdown",
   "id": "adfaf36b",
   "metadata": {},
   "source": [
    "## Equation and Parameters"
   ]
  },
  {
   "cell_type": "code",
   "execution_count": null,
   "id": "59f296ea",
   "metadata": {},
   "outputs": [],
   "source": [
    "# simulation\n",
    "nrn.defaultclock.dt = 0.1*nrn.ms\n",
    "# passive\n",
    "gL = 1.5*nrn.siemens/nrn.meter**2\n",
    "EL = -70*nrn.mV                \n",
    "Es = 0*nrn.mV                  \n",
    "# synaptic\n",
    "taus = 5.*nrn.ms\n",
    "w = 0.4*nrn.nS\n",
    "# equation\n",
    "eqs='''\n",
    "Im = gL * (EL - v) : amp/meter**2\n",
    "Is = gs * (Es - v) : amp (point current)\n",
    "gs : siemens\n",
    "'''\n",
    "\n",
    "\n",
    "results = {'Nstim':5, 'Nrepeat':20, 'interstim':200}\n",
    "results['events'] = 20+np.arange(results['Nstim'])*results['interstim']\n",
    "results['Nsyns'] = 1+np.arange(results['Nstim'])*2\n",
    "\n",
    "for case in ['single-syn-uniform', 'uniform', 'biased', 'single-syn-biased']:\n",
    "\n",
    "    results[case] = {'Vm':[]}\n",
    "    \n",
    "    for repeat in range(results['Nrepeat']):\n",
    "        \n",
    "        np.random.seed(repeat)\n",
    "\n",
    "        neuron = nrn.SpatialNeuron(morphology=BRT,\n",
    "                                   model=eqs,\n",
    "                                   Cm= 1 * nrn.uF / nrn.cm ** 2,    \n",
    "                                   Ri= 200 * nrn.ohm * nrn.cm)\n",
    "        neuron.v = EL\n",
    "\n",
    "        if 'single-syn' in case:\n",
    "            spike_times = np.arange(Nsynapses)*results['interstim']\n",
    "            spike_IDs = np.arange(Nsynapses)\n",
    "        else:\n",
    "            spike_IDs, spike_times, synapses = np.empty(0, dtype=int), np.empty(0), np.empty(0, dtype=int)\n",
    "            for e, ns in zip(results['events'], results['Nsyns']):\n",
    "                s = np.random.choice(np.arange(Nsynapses), ns, replace=False)\n",
    "                spike_times = np.concatenate([spike_times,\n",
    "                    e+np.arange(len(s))*nrn.defaultclock.dt/nrn.ms])\n",
    "                spike_IDs = np.concatenate([spike_IDs, np.array(s, dtype=int)])\n",
    "\n",
    "        results[case]['spike_times_%i'%repeat] = spike_times\n",
    "        results[case]['spike_IDs_%i'%repeat] = spike_IDs\n",
    "\n",
    "        stimulation = nrn.SpikeGeneratorGroup(len(LOCS['single-syn']),\n",
    "                                              np.array(spike_IDs, dtype=int),\n",
    "                                              spike_times*nrn.ms)\n",
    "\n",
    "        ES = nrn.Synapses(stimulation, neuron,\n",
    "                           model='''dg/dt = -g/taus : siemens (clock-driven)\n",
    "                                    gs_post = g : siemens (summed)''',\n",
    "                           on_pre='g += w',\n",
    "                           method='exponential_euler')\n",
    "\n",
    "        for ipre, iseg_post in enumerate(LOCS[case.replace('single-syn-', '')]): # connect spike IDs to a given location\n",
    "            ES.connect(i=ipre, j=iseg_post)\n",
    "\n",
    "        # recording and running\n",
    "        M = nrn.StateMonitor(neuron, ('v'), record=[0])\n",
    "        nrn.run((200+np.max(spike_times))*nrn.ms)\n",
    "        results[case]['Vm'].append(np.array(M.v[0]/nrn.mV))\n",
    "        \n",
    "        results[case]['t'] = np.array(M.t/nrn.ms)\n",
    "\n",
    "# np.save('results.npy', results)\n",
    "\n",
    "pt.plt.plot(np.mean(results['uniform']['Vm'], axis=0))"
   ]
  },
  {
   "cell_type": "code",
   "execution_count": null,
   "id": "ed9c2b03",
   "metadata": {},
   "outputs": [],
   "source": [
    "LOCS.keys()"
   ]
  },
  {
   "cell_type": "code",
   "execution_count": null,
   "id": "d15a3e46",
   "metadata": {
    "lines_to_next_cell": 2
   },
   "outputs": [],
   "source": [
    "# results = np.load('results.npy', allow_pickle=True).item()\n",
    "\n",
    "# build linear prediction from single-syn\n",
    "def build_linear_pred_trace(results):\n",
    "\n",
    "    # build a dicionary with the individual responses\n",
    "    \n",
    "    for case in ['uniform', 'biased']:\n",
    "    \n",
    "        results['%s-linear-pred' % case] = {'Vm':[], 't':results[case]['t']}\n",
    "        linear_pred = []\n",
    "        results['%s-single-syn-kernel' % case] = []\n",
    "\n",
    "        for repeat in range(results['Nrepeat']):\n",
    "\n",
    "            # building single synapse kernel resp to build the linear resp\n",
    "            results['%s-single-syn-kernel' % case] = {}\n",
    "            for i, e in zip(results['single-syn-%s'%case]['spike_IDs_%i'%repeat],\n",
    "                            results['single-syn-%s'%case]['spike_times_%i'%repeat]):\n",
    "\n",
    "                t_cond = (results['single-syn-%s' % case]['t']>e) &  (results['single-syn-%s' % case]['t']<e+150)\n",
    "                results['%s-single-syn-kernel' % case][str(i)] = results['single-syn-%s' % case]['Vm'][repeat][t_cond]\n",
    "                results['%s-single-syn-kernel' % case][str(i)]-= results['%s-single-syn-kernel' % case][str(i)][0]\n",
    "\n",
    "            # then re-building the patterns\n",
    "            linear_pred = np.array(0*results[case]['t']-70)\n",
    "            k=0\n",
    "            for i, e in zip(results[case]['spike_IDs_%i'%repeat],\n",
    "                            results[case]['spike_times_%i'%repeat]):\n",
    "\n",
    "                i0 = np.flatnonzero(results[case]['t']>e)[0] # & (results[case]['t']<(e+160))\n",
    "                N=len(results['%s-single-syn-kernel' % case][str(i)])\n",
    "                linear_pred[i0:i0+N] += results['%s-single-syn-kernel' % case][str(i)] \n",
    "            results['%s-linear-pred' % case]['Vm'].append(linear_pred)\n",
    "\n",
    "    return results, linear_pred\n",
    "\n",
    "results, linear_pred = build_linear_pred_trace(results)\n",
    "pt.plt.plot(np.mean(results['uniform-linear-pred']['Vm'], axis=0))"
   ]
  },
  {
   "cell_type": "code",
   "execution_count": null,
   "id": "e192faef",
   "metadata": {},
   "outputs": [],
   "source": [
    "for case in ['uniform', 'biased', 'uniform-linear-pred', 'biased-linear-pred']:\n",
    "\n",
    "    results[case]['depol'] = []\n",
    "    results[case]['depol-sd'] = []\n",
    "\n",
    "    for event in results['events']:\n",
    "\n",
    "        t_cond = (results[case]['t']>event) & (results[case]['t']<=event+100)\n",
    "\n",
    "        imax = np.argmax(np.mean(results[case]['Vm'], axis=0)[t_cond])\n",
    "        results[case]['depol'].append(np.mean(results[case]['Vm'], axis=0)[t_cond][imax]+70)\n",
    "        results[case]['depol-sd'].append(np.std(results[case]['Vm'], axis=0)[t_cond][imax])\n",
    "\n",
    "fig2, AX = pt.plt.subplots(2, figsize=(4,2.4))\n",
    "pt.plt.subplots_adjust(right=.99, hspace=0.5)\n",
    "\n",
    "fig3, AX1 = pt.plt.subplots(1, 3, figsize=(5.2,1.3))\n",
    "pt.plt.subplots_adjust(left=0.25, right=.9, wspace=1.)\n",
    "\n",
    "AX1[0].set_ylabel('EPSP peak (mV)')\n",
    "AX1[0].set_xlabel(' $N_{synapses}$ ')\n",
    "for ax in AX1[1:]:\n",
    "    ax.set_xlabel('expected EPSP (mV)   ')\n",
    "    ax.set_ylabel('observed EPSP (mV)')\n",
    "for ax, ax1, case, color in zip(AX, AX1[1:], ['uniform', 'biased'], ['tab:blue', 'tab:green']):\n",
    "    ax.plot(results[case]['t'], np.mean(results[case]['Vm'],axis=0), color=color, label='real')\n",
    "    ax.plot(results[case]['t'], np.mean(results[case+'-linear-pred']['Vm'],axis=0), ':', color=color, label='linear')\n",
    "    ax.set_ylabel('$V_m$ (mV)')\n",
    "    ax.set_xlabel('time (ms)')\n",
    "    ax.set_title(case, color=color)\n",
    "    pt.draw_bar_scales(ax, Ybar=2, Ybar_label='2mV ', Xbar=50, Xbar_label='50ms', remove_axis='both')\n",
    "    AX1[0].plot(results['Nsyns'], results[case]['depol'], 'o-', color=color, label=case, lw=1, ms=2)\n",
    "    ax1.plot([0]+results[case+'-linear-pred']['depol'], [0]+results[case]['depol'],\n",
    "             'o-', color=color, label=case, lw=1, ms=2)\n",
    "    ax1.plot(results[case+'-linear-pred']['depol'], results[case+'-linear-pred']['depol'], 'k:', lw=0.5)\n",
    "    ax.legend(loc=(0.9,0.2), frameon=False, fontsize=7)\n",
    "AX1[0].set_xticks([1,5,9])\n",
    "\n",
    "#fig2.savefig(os.path.join(os.path.expanduser('~'), 'Desktop', '2.svg'))\n",
    "#fig3.savefig(os.path.join(os.path.expanduser('~'), 'Desktop', '3.svg'))"
   ]
  },
  {
   "cell_type": "code",
   "execution_count": null,
   "id": "4d613f13",
   "metadata": {},
   "outputs": [],
   "source": [
    "pt.plt.plot(results['single-syn-uniform']['Vm'].flatten()[::10])"
   ]
  },
  {
   "cell_type": "code",
   "execution_count": null,
   "id": "b27a3f7a",
   "metadata": {},
   "outputs": [],
   "source": [
    "results['single-syn-uniform']"
   ]
  },
  {
   "cell_type": "code",
   "execution_count": null,
   "id": "0373bbd9",
   "metadata": {},
   "outputs": [],
   "source": []
  }
 ],
 "metadata": {
  "jupytext": {
   "formats": "ipynb,py:percent"
  },
  "kernelspec": {
   "display_name": "Python 3 (ipykernel)",
   "language": "python",
   "name": "python3"
  },
  "language_info": {
   "codemirror_mode": {
    "name": "ipython",
    "version": 3
   },
   "file_extension": ".py",
   "mimetype": "text/x-python",
   "name": "python",
   "nbconvert_exporter": "python",
   "pygments_lexer": "ipython3",
   "version": "3.10.11"
  }
 },
 "nbformat": 4,
 "nbformat_minor": 5
}
