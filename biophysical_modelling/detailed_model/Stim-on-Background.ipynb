{
 "cells": [
  {
   "cell_type": "markdown",
   "id": "3ec5cd47",
   "metadata": {},
   "source": [
    "# Stimulus-Evoked Activity under *in vivo*-like conditions"
   ]
  },
  {
   "cell_type": "code",
   "execution_count": 1,
   "id": "59af8188",
   "metadata": {},
   "outputs": [
    {
     "name": "stderr",
     "output_type": "stream",
     "text": [
      "/home/yann.zerlaut/miniconda3/lib/python3.8/site-packages/scipy/__init__.py:146: UserWarning: A NumPy version >=1.16.5 and <1.23.0 is required for this version of SciPy (detected version 1.23.5\n",
      "  warnings.warn(f\"A NumPy version >={np_minversion} and <{np_maxversion}\"\n"
     ]
    }
   ],
   "source": [
    "import numpy as np\n",
    "import scipy\n",
    "\n",
    "from cell_template import BRANCH_COLORS\n",
    "from parallel import Parallel\n",
    "\n",
    "import sys\n",
    "sys.path.append('../..')\n",
    "import plot_tools as pt\n",
    "import matplotlib.pylab as plt"
   ]
  },
  {
   "cell_type": "markdown",
   "id": "d870a5cb",
   "metadata": {},
   "source": [
    "# Protocol Description\n",
    "\n",
    "- synapses splitted in excitatory (80%) and inhibitory (20%) categories\n",
    "- background excitatory+inhibitory synaptic events at a given frequency (events through Poisson process)\n",
    "- stimulus events: a set of synaptic events randomly picked within the excitatory population\n",
    "- stimulus stength variable: **$n_{syn}$** the number of randomly picked synapses\n",
    "- simulations on a per branch basis -- considering only the synapses of a given branch -- performing simulations on each branch\n",
    "- firing response in Hz measured in [0,100]ms window following the stimulus"
   ]
  },
  {
   "cell_type": "markdown",
   "id": "ee02be40",
   "metadata": {},
   "source": [
    "### Example Simulation\n",
    "Run the below example with:\n",
    "```\n",
    "python stim_on_background.py --test -c Martinotti --nCluster 5 15 25 35 45 --bgStimFreq 1e-3 --bgFreqInhFactor 8 --nStimRepeat 2 --with_presynaptic_spikes --with_NMDA\n",
    "```"
   ]
  },
  {
   "cell_type": "code",
   "execution_count": 2,
   "id": "f79c2643",
   "metadata": {
    "scrolled": true
   },
   "outputs": [
    {
     "ename": "KeyError",
     "evalue": "'nStimRepeat'",
     "output_type": "error",
     "traceback": [
      "\u001b[0;31m---------------------------------------------------------------------------\u001b[0m",
      "\u001b[0;31mKeyError\u001b[0m                                  Traceback (most recent call last)",
      "\u001b[0;32m/tmp/ipykernel_645597/3301412702.py\u001b[0m in \u001b[0;36m<module>\u001b[0;34m\u001b[0m\n\u001b[1;32m      4\u001b[0m fig, AX = pt.figure(axes_extents=[[(1,2)],[(1,1)]],\n\u001b[1;32m      5\u001b[0m                     figsize=(3,1), left=0, bottom=0., hspace=0.)\n\u001b[0;32m----> 6\u001b[0;31m \u001b[0;32mfor\u001b[0m \u001b[0mr\u001b[0m \u001b[0;32min\u001b[0m \u001b[0mrange\u001b[0m\u001b[0;34m(\u001b[0m\u001b[0mint\u001b[0m\u001b[0;34m(\u001b[0m\u001b[0mresults\u001b[0m\u001b[0;34m[\u001b[0m\u001b[0;34m'nStimRepeat'\u001b[0m\u001b[0;34m]\u001b[0m\u001b[0;34m)\u001b[0m\u001b[0;34m)\u001b[0m\u001b[0;34m:\u001b[0m\u001b[0;34m\u001b[0m\u001b[0;34m\u001b[0m\u001b[0m\n\u001b[0m\u001b[1;32m      7\u001b[0m     \u001b[0;32mfor\u001b[0m \u001b[0mc\u001b[0m\u001b[0;34m,\u001b[0m \u001b[0mnC\u001b[0m \u001b[0;32min\u001b[0m \u001b[0menumerate\u001b[0m\u001b[0;34m(\u001b[0m\u001b[0mresults\u001b[0m\u001b[0;34m[\u001b[0m\u001b[0;34m'nCluster'\u001b[0m\u001b[0;34m]\u001b[0m\u001b[0;34m)\u001b[0m\u001b[0;34m:\u001b[0m\u001b[0;34m\u001b[0m\u001b[0;34m\u001b[0m\u001b[0m\n\u001b[1;32m      8\u001b[0m         \u001b[0mtstart\u001b[0m \u001b[0;34m=\u001b[0m \u001b[0mresults\u001b[0m\u001b[0;34m[\u001b[0m\u001b[0;34m't0'\u001b[0m\u001b[0;34m]\u001b[0m\u001b[0;34m+\u001b[0m\u001b[0mr\u001b[0m\u001b[0;34m*\u001b[0m\u001b[0mlen\u001b[0m\u001b[0;34m(\u001b[0m\u001b[0mresults\u001b[0m\u001b[0;34m[\u001b[0m\u001b[0;34m'nCluster'\u001b[0m\u001b[0;34m]\u001b[0m\u001b[0;34m)\u001b[0m\u001b[0;34m*\u001b[0m\u001b[0mresults\u001b[0m\u001b[0;34m[\u001b[0m\u001b[0;34m'ISI'\u001b[0m\u001b[0;34m]\u001b[0m\u001b[0;34m+\u001b[0m\u001b[0mc\u001b[0m\u001b[0;34m*\u001b[0m\u001b[0mresults\u001b[0m\u001b[0;34m[\u001b[0m\u001b[0;34m'ISI'\u001b[0m\u001b[0;34m]\u001b[0m\u001b[0;34m\u001b[0m\u001b[0;34m\u001b[0m\u001b[0m\n",
      "\u001b[0;31mKeyError\u001b[0m: 'nStimRepeat'"
     ]
    },
    {
     "data": {
      "image/png": "[encoded data removed]",
      "text/plain": [
       "<Figure size 1240.16x324.803 with 2 Axes>"
      ]
     },
     "metadata": {},
     "output_type": "display_data"
    }
   ],
   "source": [
    "results = np.load('single_sim.npy', allow_pickle=True).item()\n",
    "\n",
    "t = np.arange(len(results['Vm_soma']))*results['dt']\n",
    "fig, AX = pt.figure(axes_extents=[[(1,2)],[(1,1)]],\n",
    "                    figsize=(3,1), left=0, bottom=0., hspace=0.)\n",
    "for r in range(int(results['nStimRepeat'])):\n",
    "    for c, nC in enumerate(results['nCluster']):\n",
    "        tstart = results['t0']+r*len(results['nCluster'])*results['ISI']+c*results['ISI']\n",
    "        pt.arrow(AX[0], [tstart, 0, 0, -10],\n",
    "                 head_width=4, head_length=5, width=0.1)\n",
    "        pt.annotate(AX[0], 'n$_{syn}$=%i' % nC, (tstart, 5), \n",
    "                    rotation=90, xycoords='data', fontsize=6, ha='right')\n",
    "AX[0].plot(t, results['Vm_dend'], 'k:', lw=0.5, label=' distal\\ndendrite')\n",
    "AX[0].plot(t, results['Vm_soma'], 'tab:brown', label='soma')\n",
    "AX[0].plot(t, -60+0*t, 'k:')\n",
    "pt.annotate(AX[0], '-60mV ', (0,-60), xycoords='data', ha='right', va='center')\n",
    "pt.draw_bar_scales(AX[0], Xbar=100, Xbar_label='100ms', Ybar=20, Ybar_label='20mV')\n",
    "AX[0].legend(frameon=False, loc=(1, 0.3))\n",
    "for i, events in enumerate(results['presynaptic_exc_events']):\n",
    "    AX[1].plot(events, i*np.ones(len(events)), '.', color='g')\n",
    "for i, events in enumerate(results['presynaptic_inh_events']):\n",
    "    AX[1].plot(events, len(results['presynaptic_exc_events'])+i*np.ones(len(events)), '.', \n",
    "               color='r')\n",
    "pt.annotate(AX[1], 'Inh.', (0,1), ha='right', va='top', color='r')\n",
    "pt.annotate(AX[1], 'Exc.', (0,0), ha='right', va='bottom', color='g')\n",
    "\n",
    "pt.set_common_xlims(AX, lims=[t[0], t[-1]])\n",
    "for ax in AX:\n",
    "    ax.axis('off')"
   ]
  },
  {
   "cell_type": "markdown",
   "id": "c89c11e7",
   "metadata": {},
   "source": [
    "### Functions to Load and Analyze the Simulation Data"
   ]
  },
  {
   "cell_type": "code",
   "execution_count": null,
   "id": "5702b618",
   "metadata": {},
   "outputs": [],
   "source": [
    "def load_params_from(sim):\n",
    "    p = {}\n",
    "    for k in ['dt', 'nStimRepeat', 'ISI', 't0']:\n",
    "        p[k] = sim.fetch_quantity_on_grid(k, dtype=float, return_last=True) \n",
    "    p['nCluster'] = sim.fetch_quantity_on_grid('nCluster', dtype=object, return_last=True)\n",
    "    return p\n",
    "\n",
    "def show_Vm_trace(sim, \n",
    "                  loc='soma',\n",
    "                  iBranch=0, \n",
    "                  varied_key = 'with_NMDA',\n",
    "                  plot = {'with-NMDA':{'varied_key':True,\n",
    "                                       'color':'tab:orange',\n",
    "                                       'lw':1.0},\n",
    "                          'without':{'varied_key':False,\n",
    "                                    'color':'tab:grey',\n",
    "                                    'lw':0.5}},\n",
    "                  ms=0.5,\n",
    "                  zoom=None):\n",
    "    \n",
    "    sim.fetch_quantity_on_grid('Vm_%s' % loc, dtype=object) \n",
    "    p = load_params_from(sim)\n",
    "    \n",
    "    params = dict(iBranch=iBranch)\n",
    "\n",
    "    #fig, ax = pt.figure(figsize=(2.5,2), left=0.2, bottom=0.5)\n",
    "    fig, AX = pt.figure(axes_extents=[[(1,3)],[(1,1)]],\n",
    "                        figsize=(2.3,.7), left=0, bottom=0., hspace=0.)\n",
    "\n",
    "    Vms = {}\n",
    "    for label in plot:\n",
    "        params[varied_key] = plot[label]['varied_key']\n",
    "        Vm = sim.get('Vm_%s' % loc, params)[0]\n",
    "        t = np.arange(len(Vm))*p['dt']\n",
    "        if zoom is not None:\n",
    "            Vm = Vm[(t>zoom[0]) & (t<zoom[1])]\n",
    "            t = t[(t>zoom[0]) & (t<zoom[1])]\n",
    "        else:\n",
    "            zoom=[t[0], t[-1]]\n",
    "        AX[0].plot(t, Vm, label=label, color=plot[label]['color'], lw=plot[label]['lw'])\n",
    "        AX[0].plot(t, -60.+0*t, ':', color=plot[label]['color'], lw=0.25)\n",
    "\n",
    "    for r in range(int(p['nStimRepeat'])):\n",
    "        for c, nC in enumerate(p['nCluster']):\n",
    "            tstart = p['t0']+r*len(p['nCluster'])*p['ISI']+c*p['ISI']\n",
    "            if (tstart>zoom[0]) and (tstart<zoom[1]):\n",
    "                pt.arrow(AX[0], [tstart, 0, 0, -10],\n",
    "                         head_width=4, head_length=5, width=0.1)\n",
    "                pt.annotate(AX[0], 'n$_{syn}$=%i' % nC, (tstart, 5), \n",
    "                            rotation=90, xycoords='data', fontsize=6, ha='right')\n",
    "                \n",
    "    sim.fetch_quantity_on_grid('presynaptic_exc_events', dtype=object) \n",
    "    sim.fetch_quantity_on_grid('presynaptic_inh_events', dtype=object) \n",
    "   \n",
    "    for i, events in enumerate(sim.get('presynaptic_exc_events')[0]):\n",
    "        AX[1].plot(events, i*np.ones(len(events)), '.', color='g', ms=ms)\n",
    "    for i, events in enumerate(sim.get('presynaptic_inh_events')[0]):\n",
    "        AX[1].plot(events, len(sim.get('presynaptic_exc_events')[0])+i*np.ones(len(events)), '.', \n",
    "                   color='r', ms=ms)\n",
    "    for ax in AX:\n",
    "        ax.axis('off')\n",
    "    AX[0].legend(loc=(1,0.4), frameon=False)\n",
    "    pt.draw_bar_scales(AX[0], Xbar=100, Xbar_label='100ms', Ybar=20, Ybar_label='20mV')\n",
    "    for ax in AX:\n",
    "        ax.set_xlim(zoom)\n",
    "    return fig\n",
    "\n",
    "def extract_trials(sim, \n",
    "                  loc='soma',\n",
    "                  varied_key = 'with_NMDA',\n",
    "                  true_false_labels=['with-NMDA', 'without'],\n",
    "                  pre=-30, post=150):\n",
    "    \"\"\"\n",
    "    returns elements of shape:\n",
    "               VMs     (nBranch, nStims, nStimRepeat, nTimeSamples)\n",
    "               SPIKES  (nBranch, nStims, nStimRepeat, nTimeSamples)\n",
    "    \"\"\"\n",
    "    sim.fetch_quantity_on_grid('Vm_%s' % loc, dtype=object) \n",
    "    p = load_params_from(sim)\n",
    "    \n",
    "    T = np.arange(int(pre/p['dt']), int(post/p['dt']))*p['dt']\n",
    "    nBranch = len(np.unique(sim.iBranch))\n",
    "    nStims = len(p['nCluster'])\n",
    "    VMs, SPIKEs, RATEs = {}, {}, {}\n",
    "    \n",
    "    for l, label in enumerate(true_false_labels):\n",
    "        VMs[label] = np.zeros((nBranch, nStims, int(p['nStimRepeat']), len(T)))\n",
    "        SPIKEs[label] = np.zeros((nBranch, nStims, int(p['nStimRepeat']), len(T)), dtype=int)\n",
    "        RATEs[label] = np.zeros((nBranch, nStims, int(p['nStimRepeat']), len(T)), dtype=float)\n",
    "        \n",
    "        for iBranch in np.unique(sim.iBranch):\n",
    "            \n",
    "            params = {varied_key:(label==true_false_labels[0]),\n",
    "                      'iBranch':iBranch}\n",
    "\n",
    "            Vm = sim.get('Vm_%s' % loc, params)[0]\n",
    "            \n",
    "            _, VMs[label][iBranch, :, :, :], SPIKEs[label][iBranch, :, :, :] = \\\n",
    "                    trial_alignement(Vm, p, pre=pre, post=post)\n",
    "            RATEs[label][iBranch, :, :, :] = 1e3*SPIKEs[label][iBranch, :, :, :]/p['dt']\n",
    "            \n",
    "    return T, VMs, SPIKEs, RATEs\n",
    "    \n",
    "def trial_alignement(Vm, p, \n",
    "                     spike_threshold=-20,\n",
    "                     pre=-30, post=150):\n",
    "    \n",
    "    t = np.arange(len(Vm))*p['dt']\n",
    "    T = np.arange(int(pre/p['dt']), int(post/p['dt']))*p['dt']\n",
    "    VMs = np.zeros((len(p['nCluster']), int(p['nStimRepeat']), len(T)))\n",
    "    SPIKEs = np.zeros((len(p['nCluster']), int(p['nStimRepeat']), len(T)), dtype=int)\n",
    "    for r in range(int(p['nStimRepeat'])):\n",
    "        for c, nC in enumerate(p['nCluster']):\n",
    "            tstart = p['t0']+r*len(p['nCluster'])*p['ISI']+c*p['ISI']\n",
    "            cond = t>=(tstart+T[0])\n",
    "            VMs[c,r,:] = Vm[cond][:len(T)]\n",
    "            # count spikes\n",
    "            iSpks =np.argwhere((VMs[c,r,:][1:]>=spike_threshold) & (VMs[c,r,:][:-1]<spike_threshold))\n",
    "            SPIKEs[c,r,1:][iSpks] = 1\n",
    "        \n",
    "    return T, VMs, SPIKEs\n",
    "\n",
    "def func(x, x0, s, A):\n",
    "    # error function\n",
    "    return A*(scipy.special.erf(s*(x-x0))+1)/2."
   ]
  },
  {
   "cell_type": "markdown",
   "id": "1ca5426b",
   "metadata": {},
   "source": [
    "# Basket Cell"
   ]
  },
  {
   "cell_type": "markdown",
   "id": "43e53bd4",
   "metadata": {},
   "source": [
    "### Demo Simulation\n",
    "\n",
    "Run the following:\n",
    "\n",
    "```\n",
    "python stim_on_background.py -c Basket --nCluster 10 30 50\\\n",
    "                --bgStimFreq 3e-3 --bgFreqInhFactor 0.75 --nStimRepeat 10\\\n",
    "                --test_uniform --suffix Demo --with_presynaptic_spikes\n",
    "```"
   ]
  },
  {
   "cell_type": "markdown",
   "id": "9d5503ac-615c-496c-9bb1-673de85480ef",
   "metadata": {},
   "source": [
    "### Plot"
   ]
  },
  {
   "cell_type": "code",
   "execution_count": null,
   "id": "fc4fdb29",
   "metadata": {},
   "outputs": [],
   "source": [
    "sim = Parallel(\\\n",
    "        filename='../../data/detailed_model/StimOnBg_simDemo_Basket.zip')\n",
    "sim.load()\n",
    "\n",
    "t0, length = 1300, 2000\n",
    "\n",
    "fig = show_Vm_trace(sim, iBranch=2, zoom=[t0,t0+length],\n",
    "              varied_key = 'from_uniform',\n",
    "              plot = {'real':{'varied_key':False,\n",
    "                              'color':'tab:red',\n",
    "                              'lw':0.5},\n",
    "                      'uniform':{'varied_key':True,\n",
    "                                 'color':'tab:grey',\n",
    "                                 'lw':1.0}},\n",
    "                    ms=0.5)\n",
    "fig.savefig('../../figures/Figure4/raw-stim-with-bg-Basket.svg')"
   ]
  },
  {
   "cell_type": "markdown",
   "id": "5e4e3038",
   "metadata": {},
   "source": [
    "## Full Simulations\n",
    "\n",
    "```\n",
    "    python stim_on_background.py -c Basket\\\n",
    "                                 --nCluster 0 5 10 15 20 25 30 35 40 45 50\\\n",
    "                                 --bgStimFreq 3e-3\\\n",
    "                                 --bgFreqInhFactor 0.75\\\n",
    "                                 --nStimRepeat 100\\\n",
    "                                 --test_uniform --suffix Full --ISI 400 \n",
    "```"
   ]
  },
  {
   "cell_type": "code",
   "execution_count": null,
   "id": "17f3be7d",
   "metadata": {},
   "outputs": [],
   "source": [
    "sim = Parallel(\\\n",
    "        filename='../../data/detailed_model/StimOnBg_simFull_Basket.zip')\n",
    "sim.load()"
   ]
  },
  {
   "cell_type": "code",
   "execution_count": null,
   "id": "46f48b6e",
   "metadata": {},
   "outputs": [],
   "source": [
    "T, VMs, SPIKEs, RATEs = extract_trials(sim,\n",
    "                                       loc='soma',\n",
    "                                       varied_key = 'from_uniform',\n",
    "                                       true_false_labels=['uniform', 'real'],\n",
    "                                       pre=0, post=50)"
   ]
  },
  {
   "cell_type": "code",
   "execution_count": null,
   "id": "7655a4ce",
   "metadata": {
    "scrolled": true
   },
   "outputs": [],
   "source": [
    "fig, ax = pt.figure(figsize=(1.,1.1))\n",
    "xlim=[-1,47]\n",
    "\n",
    "for l, label, color in zip(range(2), ['uniform', 'real'], ['tab:grey', 'tab:red']):\n",
    "    spike_count = SPIKEs[label][:,:,:,:].sum(axis=-1).mean(axis=-1) # time, then trials\n",
    "    spike_proba = np.clip(spike_count, 0, 1)\n",
    "    pt.scatter(np.unique(sim.nCluster)[0], np.mean(spike_proba, axis=0),\n",
    "               sy=scipy.stats.sem(spike_proba, axis=0), ms=1,\n",
    "               color=color, ax=ax)\n",
    "    # fit\n",
    "    x, y = np.array(np.unique(sim.nCluster)[0]), np.mean(spike_proba, axis=0)\n",
    "    def to_minimize(P):\n",
    "        return np.abs(y[x<xlim[1]]-func(x[x<xlim[1]], *P)).sum()\n",
    "    res = scipy.optimize.minimize(to_minimize, [x[-1]/2., \n",
    "                                 1./(x[-1]/2.), y.max()],\n",
    "                  method='Nelder-Mead')\n",
    "    pt.plot(x, func(x, *res.x), color=color, ax=ax, lw=2, alpha=.5)\n",
    "    \n",
    "pt.set_plot(ax, xlabel='$n_{syn}$'  , \n",
    "            yticks=[0,0.5,1],\n",
    "            xticks=[0, 20, 40],\n",
    "            xlim=[0, 47],\n",
    "            ylabel='spike proba.')\n",
    "ax.set_title('n=6 branches', fontsize=7)\n",
    "fig.savefig('../../figures/Figure4/spiking-responses-Basket.svg')"
   ]
  },
  {
   "cell_type": "code",
   "execution_count": null,
   "id": "8e654712-3060-44cc-9e08-a76cd525d3c8",
   "metadata": {},
   "outputs": [],
   "source": [
    "from scipy import stats\n",
    "from scipy.optimize import minimize\n",
    "\n",
    "fig, ax = pt.figure(figsize=(.6,1.1))\n",
    "\n",
    "x = np.array(np.unique(sim.nCluster)[0])\n",
    "xlim=[-1,47]\n",
    "\n",
    "Nsyn = {}\n",
    "for l, label, color in zip(range(2),\n",
    "                           ['real', 'uniform'],\n",
    "                           ['tab:red', 'tab:grey']):\n",
    "    Nsyn[label] = []\n",
    "    x = np.array(np.unique(sim.nCluster)[0])\n",
    "    for b in range(6):\n",
    "        spike_count = SPIKEs[label][b,:,:,:].sum(axis=-1).mean(axis=-1) # time, then trials\n",
    "        spike_proba = np.clip(spike_count, 0, 1)\n",
    "   \n",
    "        def to_minimize(P):\n",
    "            return np.abs(spike_proba[x<xlim[1]]-func(x[x<xlim[1]], *P)).sum()\n",
    "        \n",
    "        res = minimize(to_minimize, [x[-1]/2.,\n",
    "                                     1./(x[-1]/2.),\n",
    "                                     spike_proba.max()],\n",
    "                      method='Nelder-Mead')\n",
    "        \n",
    "        # Nsyn[label].append(res.x[0]) # if nsyn level is the half activation\n",
    "\n",
    "        # nsyn is level above 0.05\n",
    "        if np.sum(func(x, *res.x)>0.05):\n",
    "            Nsyn[label].append(x[func(x, *res.x)>0.05][0])\n",
    "        else:\n",
    "            Nsyn[label].append(x[-1])\n",
    "        \n",
    "    ax.bar([l], [np.mean(Nsyn[label])], yerr=[stats.sem(Nsyn[label])], color=color)\n",
    "\n",
    "print(\"\"\"\n",
    "uniform: %.1f +/- %.1f \n",
    "real: %.1f +/- %.1f \n",
    "p-value (paired t-test): %.1e\n",
    "\"\"\" % (np.mean(Nsyn['real']), np.std(Nsyn['real']),\n",
    "       np.mean(Nsyn['uniform']), np.std(Nsyn['uniform']),\n",
    "       stats.ttest_rel(Nsyn['uniform'], Nsyn['real']).pvalue))\n",
    "pt.set_plot(ax, ['left'], ylabel='$n_{syn}^{\\,\\,onset}$')\n",
    "fig.savefig('../../figures/Figure4/summary-spiking-responses-Basket.svg')"
   ]
  },
  {
   "cell_type": "markdown",
   "id": "83124163",
   "metadata": {},
   "source": [
    "# Martinotti Cell"
   ]
  },
  {
   "cell_type": "markdown",
   "id": "2a67d5a4",
   "metadata": {},
   "source": [
    "### Demo Simulation\n",
    "\n",
    "```\n",
    "python stim_on_background.py -c Martinotti --nCluster 5 15 25\\\n",
    "                                           --bgStimFreq 1e-3\\\n",
    "                                           --bgFreqInhFactor 8\\\n",
    "                                           --nStimRepeat 10\\\n",
    "                                           --test_NMDA --suffix Demo\\\n",
    "                                           --with_presynaptic_spikes\n",
    "```"
   ]
  },
  {
   "cell_type": "code",
   "execution_count": null,
   "id": "6688bfdf",
   "metadata": {},
   "outputs": [],
   "source": [
    "sim = Parallel(\\\n",
    "        filename='../../data/detailed_model/StimOnBg_simDemo_Martinotti.zip')\n",
    "sim.load()\n",
    "t0, length = 2500, 2000\n",
    "fig = show_Vm_trace(sim, iBranch=4, \n",
    "                    zoom=[t0,t0+length],\n",
    "                    #zoom=[0,10e3],\n",
    "              varied_key = 'with_NMDA',\n",
    "              plot = {'with-NMDA':{'varied_key':True,\n",
    "                                       'color':'tab:orange',\n",
    "                                       'lw':1.0},\n",
    "                      'AMPA-only':{'varied_key':False,\n",
    "                                   'color':'tab:purple',\n",
    "                                   'lw':1}},\n",
    "                    ms=1)\n",
    "fig.savefig('../../figures/Figure4/raw-stim-with-bg-Martinotti.svg')"
   ]
  },
  {
   "cell_type": "markdown",
   "id": "912c6d78",
   "metadata": {},
   "source": [
    "## Full Simulation\n",
    "\n",
    "```\n",
    "    python stim_on_background.py -c Martinotti\\\n",
    "                             --nCluster 0 2 4 6 8 10 12 14 16 18 20\\\n",
    "                             --bgStimFreq 1e-3\\\n",
    "                             --bgFreqInhFactor 8\\\n",
    "                             --nStimRepeat 100\\\n",
    "                             --test_NMDA --suffix Full --ISI 400\n",
    "```"
   ]
  },
  {
   "cell_type": "code",
   "execution_count": null,
   "id": "df56ff8d",
   "metadata": {},
   "outputs": [],
   "source": [
    "sim = Parallel(\\\n",
    "        filename='../../data/detailed_model/StimOnBg_simFull_Martinotti.zip')\n",
    "sim.load()"
   ]
  },
  {
   "cell_type": "code",
   "execution_count": null,
   "id": "d5cbbc89-a49b-4ebe-9e2e-b851899356d9",
   "metadata": {},
   "outputs": [],
   "source": [
    "T, VMs, SPIKEs, RATEs = extract_trials(sim,\n",
    "                                       loc='soma',\n",
    "                                       varied_key = 'with_NMDA',\n",
    "                                       true_false_labels=['with-NMDA', 'without'],\n",
    "                                       pre=0, post=50)"
   ]
  },
  {
   "cell_type": "code",
   "execution_count": null,
   "id": "2be45fbd-5678-4daf-929a-60ad22fa18da",
   "metadata": {},
   "outputs": [],
   "source": [
    "fig, ax = pt.figure(figsize=(1.,1.1))\n",
    "x, MEANS = np.array(np.unique(sim.nCluster)[0]), []\n",
    "for l, label, color in zip(range(2), ['without', 'with-NMDA'], ['tab:purple', 'tab:orange']):\n",
    "    spike_count = SPIKEs[label][:,:,:,:].sum(axis=-1).mean(axis=-1) # time, then trials\n",
    "    spike_proba = np.clip(spike_count, 0, 1)\n",
    "    x, y = np.array(np.unique(sim.nCluster)[0]), np.mean(spike_proba, axis=0)\n",
    "    sy = scipy.stats.sem(spike_proba, axis=0)\n",
    "    pt.scatter(x ,y, sy=sy, ms=1, color=color, ax=ax)\n",
    "    # fit\n",
    "    def to_minimize(P):\n",
    "        return np.abs(y-func(x, *P)).sum()\n",
    "    res = scipy.optimize.minimize(to_minimize, [x[-1]/2., \n",
    "                                 1./(x[-1]/2.), y.max()],\n",
    "                  method='Nelder-Mead')\n",
    "    pt.plot(x, func(x, *res.x), color=color, ax=ax, lw=2, alpha=.5)\n",
    "    \n",
    "pt.set_plot(ax, xlabel='$n_{syn}$'  , #yticks=[0,1],\n",
    "            #xlim=[-1,38],\n",
    "            #ylim=[-0.05,1.], yticks=[0,0.5,1],\n",
    "            xticks=[0, 10, 20], \n",
    "            #xticks_labels=['5', '', '25', '', '45'],\n",
    "            ylabel='spike proba.')\n",
    "fig.savefig('../../figures/Figure4/spiking-responses-Martinotti.svg')"
   ]
  },
  {
   "cell_type": "code",
   "execution_count": null,
   "id": "17c68f5c-e4e3-4f64-b37b-e55f39cfcfcb",
   "metadata": {},
   "outputs": [],
   "source": [
    "from scipy import stats\n",
    "from scipy.optimize import minimize\n",
    "\n",
    "fig, ax = pt.figure(figsize=(.6,1.1))\n",
    "\n",
    "x = np.array(np.unique(sim.nCluster)[0])\n",
    "xlim = [-1,30]\n",
    "\n",
    "Nsyn = {}\n",
    "for l, label, color in zip(range(2),\n",
    "                           ['with-NMDA', 'without'],\n",
    "                           ['tab:orange', 'tab:purple']):\n",
    "    Nsyn[label] = []\n",
    "    x = np.array(np.unique(sim.nCluster)[0])\n",
    "    for b in range(6):\n",
    "        spike_count = SPIKEs[label][b,:,:,:].sum(axis=-1).mean(axis=-1) # time, then trials\n",
    "        spike_proba = np.clip(spike_count, 0, 1)\n",
    "   \n",
    "        def to_minimize(P):\n",
    "            return np.abs(spike_proba[x<xlim[1]]-func(x[x<xlim[1]], *P)).sum()\n",
    "        \n",
    "        res = minimize(to_minimize, [x[-1]/2.,\n",
    "                                     1./(x[-1]/2.),\n",
    "                                     spike_proba.max()],\n",
    "                      method='Nelder-Mead')\n",
    "        \n",
    "        # Nsyn[label].append(res.x[0]) # if nsyn level is the half activation\n",
    "\n",
    "        # nsyn is level above 0.05\n",
    "        if np.sum(func(x, *res.x)>0.05):\n",
    "            Nsyn[label].append(x[func(x, *res.x)>0.05][0])\n",
    "        else:\n",
    "            Nsyn[label].append(x[-1])\n",
    "        \n",
    "    ax.bar([l], [np.mean(Nsyn[label])],\n",
    "           yerr=[stats.sem(Nsyn[label])], color=color)\n",
    "\n",
    "print(\"\"\"\n",
    "without: %.1f +/- %.1f \n",
    "with: %.1f +/- %.1f \n",
    "p-value (paired t-test): %.1e\n",
    "\"\"\" % (np.mean(Nsyn['without']), np.std(Nsyn['without']),\n",
    "       np.mean(Nsyn['with-NMDA']), np.std(Nsyn['with-NMDA']),\n",
    "       stats.ttest_rel(Nsyn['without'], Nsyn['with-NMDA']).pvalue))\n",
    "pt.set_plot(ax, ['left'], ylabel='$n_{syn}^{\\,\\,onset}$',)\n",
    "fig.savefig('../../figures/Figure4/summary-spiking-responses-Martinotti.svg')"
   ]
  },
  {
   "cell_type": "code",
   "execution_count": null,
   "id": "a54a81c2",
   "metadata": {},
   "outputs": [],
   "source": []
  }
 ],
 "metadata": {
  "jupytext": {
   "formats": "ipynb,py:percent"
  },
  "kernelspec": {
   "display_name": "Python 3 (ipykernel)",
   "language": "python",
   "name": "python3"
  },
  "language_info": {
   "codemirror_mode": {
    "name": "ipython",
    "version": 3
   },
   "file_extension": ".py",
   "mimetype": "text/x-python",
   "name": "python",
   "nbconvert_exporter": "python",
   "pygments_lexer": "ipython3",
   "version": "3.8.3"
  }
 },
 "nbformat": 4,
 "nbformat_minor": 5
}
