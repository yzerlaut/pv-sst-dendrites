{
 "cells": [
  {
   "cell_type": "markdown",
   "id": "f6629cee",
   "metadata": {},
   "source": [
    "# Input Impedance Properties of the Model\n",
    "    > Characterizing the parameter dependency of the input impedance spatial profile \n"
   ]
  },
  {
   "cell_type": "code",
   "execution_count": 1,
   "id": "13112da4",
   "metadata": {},
   "outputs": [],
   "source": [
    "from single_cell_integration import initialize, load_params # code to run the model: (see content below)\n",
    "from single_cell_integration import  EXC_SYNAPSES_EQUATIONS, ON_EXC_EVENT\n",
    "import sys\n",
    "sys.path.append('../../')\n",
    "from neural_network_dynamics import nrn, utils\n",
    "import plot_tools as pt\n",
    "import matplotlib.pylab as plt\n",
    "import numpy as np"
   ]
  },
  {
   "cell_type": "markdown",
   "id": "1111bfa3",
   "metadata": {},
   "source": [
    "### Locations where to simulate/record along the dendritic tree"
   ]
  },
  {
   "cell_type": "code",
   "execution_count": 2,
   "id": "7454c009",
   "metadata": {},
   "outputs": [
    {
     "data": {
      "image/png": "[encoded data removed]",
      "text/plain": [
       "<Figure size 300x300 with 1 Axes>"
      ]
     },
     "metadata": {},
     "output_type": "display_data"
    }
   ],
   "source": [
    "Model = load_params('BRT-parameters.json')\n",
    "BRT, neuron = initialize(Model)\n",
    "SEGMENTS = nrn.morpho_analysis.compute_segments(BRT)\n",
    "\n",
    "vis = pt.nrnvyz(SEGMENTS)\n",
    "n, N = Model['nseg_per_branch'], Model['branch-number']\n",
    "BRANCH_LOCS = np.concatenate([np.arange(n+1),\n",
    "                              1+40*N+np.arange(3*n)])\n",
    "#BRANCH_LOCS = np.arange(n*N+1)\n",
    "fig, ax = pt.plt.subplots(1, figsize=(2,2))\n",
    "vis.plot_segments(ax=ax, color='tab:grey')\n",
    "#vis.add_dots(ax, BRANCH_LOCS, 1)\n",
    "BL = BRANCH_LOCS[10::20]\n",
    "COLORS = [plt.cm.gist_earth((i+1)/(len(BL)+1)) for i in range(len(BL))]\n",
    "vis.add_dots(ax, BL, 10, color=COLORS)\n",
    "\n",
    "fig.savefig('../../figures/reduced_model/morpho-with-stim-loc.svg')"
   ]
  },
  {
   "cell_type": "code",
   "execution_count": 3,
   "id": "0bc7ce48-6ee3-467e-8c8b-628c37085c25",
   "metadata": {},
   "outputs": [
    {
     "data": {
      "text/plain": [
       "array([ 10, 170, 190, 210])"
      ]
     },
     "execution_count": 3,
     "metadata": {},
     "output_type": "execute_result"
    }
   ],
   "source": [
    "BL"
   ]
  },
  {
   "cell_type": "markdown",
   "id": "7d358c89",
   "metadata": {},
   "source": [
    "### Run Input Impedance Profile Characterization"
   ]
  },
  {
   "cell_type": "code",
   "execution_count": 3,
   "id": "e5f95c1c-6d17-4dfc-b4e3-612559e33f8c",
   "metadata": {},
   "outputs": [],
   "source": [
    "from single_cell_integration import EXC_SYNAPSES_EQUATIONS, ON_EXC_EVENT\n",
    "\n",
    "results = {'Nsyn':6, 'interstim':100}\n",
    "\n",
    "taus = 5.*nrn.ms\n",
    "w = 0.4*nrn.nS\n",
    "\n",
    "for l, loc in enumerate(BL):\n",
    "    \n",
    "    case=str(loc)\n",
    "    results[case] = {}\n",
    "    \n",
    "    net, BRT, neuron = None, None, None\n",
    "    stimulation, ES, M = None, None, None\n",
    "    \n",
    "    net, BRT, neuron = initialize(Model, with_network=True)\n",
    "\n",
    "\n",
    "    spike_IDs, spike_times, synapses = np.empty(0, dtype=int), np.empty(0), np.empty(0, dtype=int)\n",
    "    for e in range(results['Nsyn']):\n",
    "        s = np.zeros(e+1)\n",
    "        spike_times = np.concatenate([spike_times,\n",
    "                                        (1+e)*results['interstim']+\\\n",
    "                                          np.arange(len(s))*nrn.defaultclock.dt/nrn.ms])\n",
    "        spike_IDs = np.concatenate([spike_IDs, np.array(s, dtype=int)])\n",
    "\n",
    "    results[case]['spike_times'] = spike_times\n",
    "    results[case]['spike_IDs'] = spike_IDs\n",
    "\n",
    "    stimulation = nrn.SpikeGeneratorGroup(1,\n",
    "                                          np.array(spike_IDs, dtype=int),\n",
    "                                          spike_times*nrn.ms)\n",
    "    net.add(stimulation)\n",
    "    ES = nrn.Synapses(stimulation, neuron,\n",
    "                       model=EXC_SYNAPSES_EQUATIONS.format(**Model),\n",
    "                       on_pre=ON_EXC_EVENT.format(**Model),\n",
    "                       method='exponential_euler')\n",
    "\n",
    "    ES.connect(i=0, j=loc)\n",
    "    net.add(ES)\n",
    "    # recording and running\n",
    "    M = nrn.StateMonitor(neuron, ('v'), record=[0, loc])\n",
    "    net.add(M)\n",
    "    nrn.run((200+np.max(spike_times))*nrn.ms)\n",
    "    results[case]['Vm'] = np.array(M.v[0]/nrn.mV)\n",
    "    results[case]['Vm-loc'] = np.array(M.v[1]/nrn.mV)\n",
    "    \n",
    "    results[case]['t'] = np.array(M.t/nrn.ms)\n",
    "\n",
    "# np.save('results.npy', results)"
   ]
  },
  {
   "cell_type": "code",
   "execution_count": 4,
   "id": "ee5ecccf",
   "metadata": {},
   "outputs": [],
   "source": [
    "def build_linear_pred_trace(results, BL):\n",
    "\n",
    "    # build a dicionary with the individual responses\n",
    "    \n",
    "    for l, loc in enumerate(BL):\n",
    "        \n",
    "        case=str(loc)\n",
    "\n",
    "        results[case]['depol-real'] = []\n",
    "        results[case]['depol-linear'] = []\n",
    "    \n",
    "        results['%s-linear-pred' % case] = {'Vm':np.ones(len(results[case]['t']))*results[case]['Vm'][-1],\n",
    "                                            'Vm-loc':np.ones(len(results[case]['t']))*results[case]['Vm-loc'][-1],\n",
    "                                            't':results[case]['t']}\n",
    "\n",
    "        # single syn kernel\n",
    "        t_cond = (results[case]['t']>results['interstim']) &  (results[case]['t']<(1.9*results['interstim']))\n",
    "        results['%s-single-syn-kernel' % case] = results[case]['Vm'][t_cond]-results[case]['Vm'][t_cond][0]\n",
    "        results['%s-single-syn-kernel-loc' % case] = results[case]['Vm-loc'][t_cond]-results[case]['Vm-loc'][t_cond][0]\n",
    "\n",
    "        for e in range(results['Nsyn']):\n",
    "            start = ((1+e)*results['interstim'])\n",
    "            i0 = np.flatnonzero(results[case]['t']>start)[0] \n",
    "            N=len(results['%s-single-syn-kernel' % case])\n",
    "            results['%s-linear-pred' % case]['Vm'][i0:i0+N] += (1+e)*results['%s-single-syn-kernel' % case]\n",
    "            results['%s-linear-pred' % case]['Vm-loc'][i0:i0+N] += (1+e)*results['%s-single-syn-kernel-loc' % case]\n",
    "            # compute max depol\n",
    "            results[case]['depol-real'].append(np.max(results[case]['Vm'][i0:i0+N])-\\\n",
    "                                                   results[case]['Vm'][i0])\n",
    "            results[case]['depol-linear'].append(np.max(results['%s-linear-pred' % case]['Vm'][i0:i0+N])-\\\n",
    "                                                   results['%s-linear-pred' % case]['Vm'][i0])\n",
    "            \n",
    "    return results"
   ]
  },
  {
   "cell_type": "code",
   "execution_count": 6,
   "id": "6f316deb-735e-49a5-96ce-dc4ebff84cb2",
   "metadata": {},
   "outputs": [
    {
     "data": {
      "text/plain": [
       "<matplotlib.legend.Legend at 0x3334e5910>"
      ]
     },
     "execution_count": 6,
     "metadata": {},
     "output_type": "execute_result"
    },
    {
     "data": {
      "image/png": "[encoded data removed]",
      "text/plain": [
       "<Figure size 255x195 with 1 Axes>"
      ]
     },
     "metadata": {},
     "output_type": "display_data"
    }
   ],
   "source": [
    "results = build_linear_pred_trace(results, BL)\n",
    "pt.plt.plot(results['10']['Vm-loc'], label='real')\n",
    "pt.plt.plot(results['10-linear-pred']['Vm-loc'], 'r:', label='simulated')\n",
    "pt.plt.legend(loc=(1,1))"
   ]
  },
  {
   "cell_type": "code",
   "execution_count": 7,
   "id": "33e37128-62f3-42ea-bc6e-47c15cefa048",
   "metadata": {},
   "outputs": [
    {
     "data": {
      "image/png": "[encoded data removed]",
      "text/plain": [
       "<Figure size 357.449x276.378 with 4 Axes>"
      ]
     },
     "metadata": {},
     "output_type": "display_data"
    }
   ],
   "source": [
    "nsyn = 5\n",
    "length = 30\n",
    "fig, AX = pt.figure(axes=(4,1), figsize=(0.8,1.3), wspace=0.03, left=0)\n",
    "for l, loc in enumerate(BL):\n",
    "    for nsyn in range(1, results['Nsyn']):\n",
    "        tstart = nsyn*results['interstim']\n",
    "        tCond = (results[case]['t']>tstart) & (results[case]['t']<(length+tstart))\n",
    "        case=str(loc)\n",
    "        AX[l].plot(1.1*length+results[case]['t'][tCond]-results[case]['t'][tCond][0],\n",
    "                   results[case]['Vm-loc'][tCond], color=COLORS[l], lw=0.5)\n",
    "        AX[l].plot(results[case]['t'][tCond]-results[case]['t'][tCond][0],\n",
    "                   results[case+'-linear-pred']['Vm-loc'][tCond], ':', color=COLORS[l], lw=0.5)\n",
    "    AX[l].axis('off')\n",
    "AX[2].plot(results[case]['t'][tCond]-results[case]['t'][tCond][0], 0*results[case]['t'][tCond], 'k:', lw=0.5)\n",
    "pt.set_common_ylims(AX)   \n",
    "pt.draw_bar_scales(AX[0], Xbar=20, Xbar_label='20ms',\n",
    "                   Ybar=10, Ybar_label='10mV ')\n",
    "fig.savefig('../../figures/reduced_model/PSP-at-stim-loc.svg')"
   ]
  },
  {
   "cell_type": "code",
   "execution_count": 8,
   "id": "212db9f3-7220-4857-a00c-1ed90526aeca",
   "metadata": {},
   "outputs": [
    {
     "data": {
      "image/png": "[encoded data removed]",
      "text/plain": [
       "<Figure size 328.819x297.638 with 1 Axes>"
      ]
     },
     "metadata": {},
     "output_type": "display_data"
    }
   ],
   "source": [
    "fig, ax = pt.figure(figsize=(1.2,1.4))\n",
    "\n",
    "#ax.plot(results['10']['depol-linear']/results['10']['depol-real'][0],\n",
    "#        results['10']['depol-linear']/results['10']['depol-real'][0], 'k:')\n",
    "\n",
    "for l, loc in enumerate(BL):\n",
    "    case=str(loc)\n",
    "    ax.plot(results[case]['depol-linear']/results[case]['depol-real'][0],\n",
    "                results[case]['depol-real']/results[case]['depol-real'][0],\n",
    "                'o-', color=COLORS[l])\n",
    "pt.set_plot(ax, xlabel='expected n.EPSP   ', \n",
    "            ylabel='observed n.EPSP.   ', \n",
    "            xticks=[1,3,5], yticks=[1,3,5])\n",
    "\n",
    "fig.savefig('../../figures/reduced_model/summary-at-soma.svg')\n",
    "#plt.xlim([1,6])\n",
    "#plt.ylim([1,6])\n",
    "#results['10']['depol-linear'],"
   ]
  },
  {
   "cell_type": "markdown",
   "id": "1e8aed59-fa49-4c41-8eba-fd4f154da63f",
   "metadata": {},
   "source": [
    "# Redo this by varying the tapering factor"
   ]
  },
  {
   "cell_type": "code",
   "execution_count": 5,
   "id": "e17d7635-df63-4183-8775-35fd72b0f98c",
   "metadata": {},
   "outputs": [
    {
     "name": "stdout",
     "output_type": "stream",
     "text": [
      "sst_tapering_factor=0.78\n"
     ]
    }
   ],
   "source": [
    "# from the data we get\n",
    "pv_distal_diam = 0.59\n",
    "sst_distal_diam = 0.66\n",
    "pv_tapering_factor = 0.7\n",
    "sst_tapering_factor = pv_tapering_factor/pv_distal_diam*sst_distal_diam\n",
    "print('sst_tapering_factor=%.2f' % sst_tapering_factor)"
   ]
  },
  {
   "cell_type": "code",
   "execution_count": null,
   "id": "b10e9a64-ed03-49e4-a092-75e60c666313",
   "metadata": {
    "lines_to_next_cell": 2
   },
   "outputs": [],
   "source": [
    "def redo(Model):\n",
    "    \n",
    "    n, N = Model['nseg_per_branch'], Model['branch-number']\n",
    "    BRANCH_LOCS = np.concatenate([np.arange(n+1),\n",
    "                                  1+40*N+np.arange(3*n)])\n",
    "    BL = BRANCH_LOCS[10::20]\n",
    "    \n",
    "    results = {'Nsyn':6, 'interstim':100}\n",
    "    \n",
    "    taus = 5.*nrn.ms\n",
    "    w = 0.4*nrn.nS\n",
    "    \n",
    "    for l, loc in enumerate(BL):\n",
    "        \n",
    "        case=str(loc)\n",
    "        results[case] = {}\n",
    "        \n",
    "        net, BRT, neuron = None, None, None\n",
    "        stimulation, ES, M = None, None, None\n",
    "        \n",
    "        net, BRT, neuron = initialize(Model, with_network=True)\n",
    "    \n",
    "    \n",
    "        spike_IDs, spike_times, synapses = np.empty(0, dtype=int), np.empty(0), np.empty(0, dtype=int)\n",
    "        for e in range(results['Nsyn']):\n",
    "            s = np.zeros(e+1)\n",
    "            spike_times = np.concatenate([spike_times,\n",
    "                                            (1+e)*results['interstim']+\\\n",
    "                                              np.arange(len(s))*nrn.defaultclock.dt/nrn.ms])\n",
    "            spike_IDs = np.concatenate([spike_IDs, np.array(s, dtype=int)])\n",
    "    \n",
    "        results[case]['spike_times'] = spike_times\n",
    "        results[case]['spike_IDs'] = spike_IDs\n",
    "    \n",
    "        stimulation = nrn.SpikeGeneratorGroup(1,\n",
    "                                              np.array(spike_IDs, dtype=int),\n",
    "                                              spike_times*nrn.ms)\n",
    "        net.add(stimulation)\n",
    "        ES = nrn.Synapses(stimulation, neuron,\n",
    "                           model=EXC_SYNAPSES_EQUATIONS.format(**Model),\n",
    "                           on_pre=ON_EXC_EVENT.format(**Model),\n",
    "                           method='exponential_euler')\n",
    "    \n",
    "        ES.connect(i=0, j=loc)\n",
    "        net.add(ES)\n",
    "        # recording and running\n",
    "        M = nrn.StateMonitor(neuron, ('v'), record=[0, loc])\n",
    "        net.add(M)\n",
    "        nrn.run((200+np.max(spike_times))*nrn.ms)\n",
    "        results[case]['Vm'] = np.array(M.v[0]/nrn.mV)\n",
    "        results[case]['Vm-loc'] = np.array(M.v[1]/nrn.mV)\n",
    "        \n",
    "        results[case]['t'] = np.array(M.t/nrn.ms)\n",
    "    results['BL'] = BL\n",
    "    results = build_linear_pred_trace(results, BL)\n",
    "    return results\n",
    "\n",
    "Model = load_params('BRT-parameters.json')\n",
    "results = redo(Model)"
   ]
  },
  {
   "cell_type": "code",
   "execution_count": null,
   "id": "87e8f5db-157a-4438-96c8-c837c87970a7",
   "metadata": {},
   "outputs": [],
   "source": [
    "fig, ax = pt.figure(figsize=(1.2,1.7))\n",
    "\n",
    "depol = {}\n",
    "\n",
    "for tapering, color, key in zip([0.7, 0.8], ['tab:red', 'tab:orange'], ['pv', 'sst']):\n",
    "    \n",
    "    Model = load_params('BRT-parameters.json')\n",
    "    Model['diameter-reduction-factor'] = tapering\n",
    "    results = redo(Model)\n",
    "    \n",
    "    \n",
    "    depol_linear = np.mean([results[str(l)]['depol-linear'] for l in results['BL']], axis=0)\n",
    "    depol_real = np.mean([results[str(l)]['depol-real'] for l in results['BL']], axis=0)\n",
    "    #sdepol_real = np.std([results[str(l)]['depol-real'] for l in results['BL']], axis=0)\n",
    "    depol[key+'linear'] = depol_linear\n",
    "    depol[key+'real'] = depol_real\n",
    "    ax.plot(depol_linear/depol_linear[0], depol_real/depol_linear[0], 'o-',\n",
    "            color=color, ms=3)\n",
    "    \n",
    "ax.plot(depol_linear/depol_linear[0], depol_linear/depol_linear[0], 'k:', lw=1)\n",
    "pt.set_plot(ax, xlabel='expected n.EPSP   ', \n",
    "            ylabel='observed n.EPSP.   ', \n",
    "            xticks=[1,3,5], yticks=[1,3,5])\n",
    "\n",
    "fig.savefig('../../figures/reduced_model/summary-various-tapering.svg')"
   ]
  },
  {
   "cell_type": "code",
   "execution_count": null,
   "id": "a4757ce7-8de3-459d-9032-e73a585eebd5",
   "metadata": {},
   "outputs": [],
   "source": [
    "NLsst = np.mean(100*(depol['sstreal']-depol['sstlinear'])/depol['sstlinear'])\n",
    "NLpv = np.mean(100*(depol['pvreal']-depol['pvlinear'])/depol['pvlinear'])\n",
    "print('variation of linearity: %.1f %%' % np.abs(NLsst-NLpv))"
   ]
  },
  {
   "cell_type": "code",
   "execution_count": null,
   "id": "25d45b76-9a6a-4ec9-95e1-a2d3844d2d01",
   "metadata": {},
   "outputs": [],
   "source": []
  }
 ],
 "metadata": {
  "jupytext": {
   "formats": "ipynb,py:percent"
  },
  "kernelspec": {
   "display_name": "Python 3 (ipykernel)",
   "language": "python",
   "name": "python3"
  },
  "language_info": {
   "codemirror_mode": {
    "name": "ipython",
    "version": 3
   },
   "file_extension": ".py",
   "mimetype": "text/x-python",
   "name": "python",
   "nbconvert_exporter": "python",
   "pygments_lexer": "ipython3",
   "version": "3.11.6"
  }
 },
 "nbformat": 4,
 "nbformat_minor": 5
}
