{
 "cells": [
  {
   "cell_type": "code",
   "execution_count": 1,
   "metadata": {},
   "outputs": [],
   "source": [
    "from meshparty import trimesh_io, trimesh_vtk\n",
    "from caveclient import CAVEclient\n",
    "import numpy as np\n",
    "import pandas as pd\n",
    "import cloudvolume\n",
    "import itkwidgets\n",
    "\n",
    "\n",
    "#setting up the cave client, if you have not done this before checkout the notebook CAVEsetup.ipynb at \n",
    "#https://github.com/AllenInstitute/MicronsBinder/tree/master/notebooks/mm3_intro\n",
    "client = CAVEclient()\n",
    "#client.auth.get_new_token()\n",
    "#client.auth.save_token(token=\"Your token here\")\n",
    "\n",
    "\n",
    "dataset_name = 'minnie65_public_v117'\n",
    "client = CAVEclient(dataset_name)\n",
    "\n",
    "seg_source = client.info.segmentation_source()\n",
    "\n",
    "#using the google cloud segmentation path\n",
    "cv = cloudvolume.CloudVolume(\"precomputed://gs://iarpa_microns/minnie/minnie65/seg\", use_https=True)"
   ]
  },
  {
   "cell_type": "markdown",
   "metadata": {},
   "source": [
    "<div style=\"background: #DFF0D8; border-radius: 3px; padding: 10px;\">\n",
    "</b> Using the CAVEclient, we can query the synapse table for any neuron in the volume\n",
    "      </div>"
   ]
  },
  {
   "cell_type": "code",
   "execution_count": 3,
   "metadata": {},
   "outputs": [],
   "source": [
    "BC_ID = 864691135269913253\n",
    "MC_ID = 864691135467660940"
   ]
  },
  {
   "cell_type": "markdown",
   "metadata": {},
   "source": [
    "## Visualizing the cell alone"
   ]
  },
  {
   "cell_type": "code",
   "execution_count": 8,
   "metadata": {},
   "outputs": [],
   "source": [
    "cellid = BC_ID\n",
    "\n",
    "mesh = cv.mesh.get(cellid,lod=3)[cellid]\n",
    "\n",
    "poly_data = trimesh_vtk.trimesh_to_vtk(mesh.vertices, mesh.faces, None)\n",
    "\n",
    "#setting up an itkwidgets viewer\n",
    "viewer=itkwidgets.view(geometries=[poly_data])"
   ]
  },
  {
   "cell_type": "code",
   "execution_count": 9,
   "metadata": {},
   "outputs": [
    {
     "data": {
      "application/vnd.jupyter.widget-view+json": {
       "model_id": "b6890a74e6e24efaa033930112590af4",
       "version_major": 2,
       "version_minor": 0
      },
      "text/plain": [
       "Viewer(geometries=[{'vtkClass': 'vtkPolyData', 'points': {'vtkClass': 'vtkPoints', 'name': '_points', 'numberO…"
      ]
     },
     "metadata": {},
     "output_type": "display_data"
    }
   ],
   "source": [
    "viewer"
   ]
  },
  {
   "cell_type": "code",
   "execution_count": 10,
   "metadata": {},
   "outputs": [],
   "source": [
    "cellid = MC_ID\n",
    "\n",
    "mesh = cv.mesh.get(cellid,lod=3)[cellid]\n",
    "poly_data = trimesh_vtk.trimesh_to_vtk(mesh.vertices, mesh.faces, None)\n",
    "\n",
    "#setting up an itkwidgets viewer\n",
    "viewer=itkwidgets.view(geometries=[poly_data])"
   ]
  },
  {
   "cell_type": "code",
   "execution_count": 11,
   "metadata": {
    "scrolled": true
   },
   "outputs": [
    {
     "data": {
      "application/vnd.jupyter.widget-view+json": {
       "model_id": "8f127991e651413b8a0ceabe85fcda28",
       "version_major": 2,
       "version_minor": 0
      },
      "text/plain": [
       "Viewer(geometries=[{'vtkClass': 'vtkPolyData', 'points': {'vtkClass': 'vtkPoints', 'name': '_points', 'numberO…"
      ]
     },
     "metadata": {},
     "output_type": "display_data"
    }
   ],
   "source": [
    "viewer"
   ]
  },
  {
   "cell_type": "markdown",
   "metadata": {},
   "source": [
    "## Showing both together"
   ]
  },
  {
   "cell_type": "code",
   "execution_count": 12,
   "metadata": {},
   "outputs": [],
   "source": [
    "cellid = MC_ID\n",
    "mesh = cv.mesh.get(cellid,lod=3)[cellid]\n",
    "poly_data1 = trimesh_vtk.trimesh_to_vtk(mesh.vertices, mesh.faces, None)\n",
    "cellid = BC_ID\n",
    "mesh = cv.mesh.get(cellid,lod=3)[cellid]\n",
    "poly_data2 = trimesh_vtk.trimesh_to_vtk(mesh.vertices, mesh.faces, None)\n",
    "\n",
    "#setting up an itkwidgets viewer\n",
    "viewer=itkwidgets.view(geometries=[poly_data1, poly_data2])"
   ]
  },
  {
   "cell_type": "code",
   "execution_count": 13,
   "metadata": {},
   "outputs": [
    {
     "data": {
      "application/vnd.jupyter.widget-view+json": {
       "model_id": "d43e4f05157c400ba0e647a98f0f85dc",
       "version_major": 2,
       "version_minor": 0
      },
      "text/plain": [
       "Viewer(geometries=[{'vtkClass': 'vtkPolyData', 'points': {'vtkClass': 'vtkPoints', 'name': '_points', 'numberO…"
      ]
     },
     "metadata": {},
     "output_type": "display_data"
    }
   ],
   "source": [
    "viewer"
   ]
  },
  {
   "cell_type": "markdown",
   "metadata": {},
   "source": [
    "## Basket cell with synapses"
   ]
  },
  {
   "cell_type": "code",
   "execution_count": 71,
   "metadata": {},
   "outputs": [
    {
     "data": {
      "application/vnd.jupyter.widget-view+json": {
       "model_id": "9910aa05835b45b2a6dd8b90aeaa1ecd",
       "version_major": 2,
       "version_minor": 0
      },
      "text/plain": [
       "Viewer(geometries=[{'vtkClass': 'vtkPolyData', 'points': {'vtkClass': 'vtkPoints', 'name': '_points', 'numberO…"
      ]
     },
     "metadata": {},
     "output_type": "display_data"
    }
   ],
   "source": [
    "cellid = BC_ID\n",
    "\n",
    "mesh = cv.mesh.get(cellid,lod=3)[cellid]\n",
    "\n",
    "post_synapse_df = client.materialize.synapse_query(post_ids = np.array([cellid]))\n",
    "\n",
    "poly_data = trimesh_vtk.trimesh_to_vtk(mesh.vertices, mesh.faces, None)\n",
    "\n",
    "voxel_resolution = np.array([4,4,40])#setting the voxel resolution to convert to nm\n",
    "syn_pts = np.vstack(post_synapse_df['ctr_pt_position'].values) * voxel_resolution\n",
    "syn_sizes = np.array(post_synapse_df['size'].values)\n",
    "viewerBC =itkwidgets.view(geometries=[poly_data],\n",
    "                          point_sets = [syn_pts],\n",
    "                          #point_sets_sizes=[syn_sizes],\n",
    "                          point_sets_colors = ['r'])\n",
    "viewerBC"
   ]
  },
  {
   "cell_type": "code",
   "execution_count": 70,
   "metadata": {},
   "outputs": [
    {
     "data": {
      "application/vnd.jupyter.widget-view+json": {
       "model_id": "aadfabf3fd4b43bdb9e54317d96c94c6",
       "version_major": 2,
       "version_minor": 0
      },
      "text/plain": [
       "Viewer(geometries=[{'vtkClass': 'vtkPolyData', 'points': {'vtkClass': 'vtkPoints', 'name': '_points', 'numberO…"
      ]
     },
     "metadata": {},
     "output_type": "display_data"
    }
   ],
   "source": [
    "cellid = MC_ID\n",
    "\n",
    "mesh = cv.mesh.get(cellid,lod=3)[cellid]\n",
    "poly_data = trimesh_vtk.trimesh_to_vtk(mesh.vertices, mesh.faces, None)\n",
    "\n",
    "post_synapse_df = client.materialize.synapse_query(post_ids = np.array([cellid]))\n",
    "\n",
    "voxel_resolution = np.array([4,4,40])#setting the voxel resolution to convert to nm\n",
    "syn_pts = np.vstack(post_synapse_df['ctr_pt_position'].values) * voxel_resolution\n",
    "syn_sizes = np.array(post_synapse_df['size'].values)\n",
    "viewerMC =itkwidgets.view(geometries=[poly_data],\n",
    "                          point_sets = [syn_pts],\n",
    "                          #point_sets_sizes=[syn_sizes],\n",
    "                          point_sets_colors = ['r'])\n",
    "viewerMC"
   ]
  },
  {
   "cell_type": "markdown",
   "metadata": {},
   "source": [
    "## More controlled rendering with `trimesh_vtk.render_actor`"
   ]
  },
  {
   "cell_type": "code",
   "execution_count": 60,
   "metadata": {},
   "outputs": [
    {
     "name": "stdout",
     "output_type": "stream",
     "text": [
      "setting up renderer\n",
      "done setting up\n",
      "actors added\n",
      "camera set\n",
      "render done\n",
      "finalizing..\n"
     ]
    },
    {
     "data": {
      "text/plain": [
       "<vtkmodules.vtkRenderingOpenGL2.vtkOpenGLRenderer(0x5581b35e6970) at 0x7f0807eb3ac0>"
      ]
     },
     "execution_count": 60,
     "metadata": {},
     "output_type": "execute_result"
    }
   ],
   "source": [
    "cellid = MC_ID\n",
    "\n",
    "# mesh\n",
    "mesh = cv.mesh.get(cellid,lod=3)[cellid]\n",
    "mesh_actors = trimesh_vtk.mesh_actor(mesh, color=(0, 0, 0.4))\n",
    "\n",
    "# synapses\n",
    "post_synapse_df = client.materialize.synapse_query(post_ids = np.array([cellid]))\n",
    "syn_pts = np.vstack(post_synapse_df['ctr_pt_position'].values) * voxel_resolution\n",
    "syn_sizes = np.array(post_synapse_df['size'].values)\n",
    "syn_actors = trimesh_vtk.point_cloud_actor(syn_pts, size=syn_sizes/20, color=(1, 0, 0))\n",
    "#                                           color=[() for i in range(len(syn_pts))])\n",
    "\n",
    "camera = trimesh_vtk.camera_from_quat()\n",
    "trimesh_vtk.render_actors([syn_actors, mesh_actors])"
   ]
  },
  {
   "cell_type": "code",
   "execution_count": 69,
   "metadata": {},
   "outputs": [],
   "source": [
    "trimesh_vtk.camera_from_quat?"
   ]
  }
 ],
 "metadata": {
  "kernelspec": {
   "display_name": "Python 3 (ipykernel)",
   "language": "python",
   "name": "python3"
  },
  "language_info": {
   "codemirror_mode": {
    "name": "ipython",
    "version": 3
   },
   "file_extension": ".py",
   "mimetype": "text/x-python",
   "name": "python",
   "nbconvert_exporter": "python",
   "pygments_lexer": "ipython3",
   "version": "3.8.10"
  }
 },
 "nbformat": 4,
 "nbformat_minor": 2
}
