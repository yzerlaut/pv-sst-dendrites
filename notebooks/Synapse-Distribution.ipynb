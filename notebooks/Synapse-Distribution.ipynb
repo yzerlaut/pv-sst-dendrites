{
 "cells": [
  {
   "cell_type": "code",
   "execution_count": null,
   "metadata": {},
   "outputs": [],
   "source": [
    "cells = {'Basket':[864691135269913253],\n",
    "         'Martinotti':[864691135654096066,\n",
    "                       864691136483096108,\n",
    "                       864691136866902638,\n",
    "                       864691135390890482,\n",
    "                       864691136296781083]}"
   ]
  }
 ],
 "metadata": {
  "kernelspec": {
   "display_name": "Python 3",
   "language": "python",
   "name": "python3"
  },
  "language_info": {
   "codemirror_mode": {
    "name": "ipython",
    "version": 3
   },
   "file_extension": ".py",
   "mimetype": "text/x-python",
   "name": "python",
   "nbconvert_exporter": "python",
   "pygments_lexer": "ipython3",
   "version": "3.8.5"
  }
 },
 "nbformat": 4,
 "nbformat_minor": 4
}
