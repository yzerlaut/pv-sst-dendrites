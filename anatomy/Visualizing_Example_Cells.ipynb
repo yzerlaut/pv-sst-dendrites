{
 "cells": [
  {
   "cell_type": "markdown",
   "metadata": {},
   "source": [
    "# Visualizing Example Cells"
   ]
  },
  {
   "cell_type": "code",
   "execution_count": 42,
   "metadata": {},
   "outputs": [
    {
     "data": {
      "text/plain": [
       "'\\ndataset_name = \\'minnie65_public_v117\\'\\nclient = CAVEclient(dataset_name)\\ncv = cloudvolume.CloudVolume(client.info.segmentation_source(), progress=False)\\n\\n#using the google cloud segmentation path\\n#cv = cloudvolume.CloudVolume(\"precomputed://gs://iarpa_microns/minnie/minnie65/seg\", use_https=True)\\n#cv = cloudvolume.CloudVolume(\"precomputed://gs://allen-minnie-phase3/minniephase3-emily-pcg-skeletons/minnie_all\", use_https=True)\\n\\n# to enable to cache the mesh data, create a MeshMeta object:\\nmm = trimesh_io.MeshMeta(cv_path = client.info.segmentation_source(),\\n                         disk_cache_path=\\'minnie65_v117_meshes\\',\\n                         map_gs_to_https=True)\\n'"
      ]
     },
     "execution_count": 42,
     "metadata": {},
     "output_type": "execute_result"
    }
   ],
   "source": [
    "import os\n",
    "from meshparty import trimesh_io, trimesh_vtk, meshwork\n",
    "from caveclient import CAVEclient\n",
    "import numpy as np\n",
    "import pandas as pd\n",
    "import cloudvolume\n",
    "import itkwidgets\n",
    "\n",
    "#setting up the cave client, if you have not done this before checkout the notebook CAVEsetup.ipynb at \n",
    "#https://github.com/AllenInstitute/MicronsBinder/blob/master/notebooks/mm3_intro/CAVEsetup.ipynb\n",
    "#client = CAVEclient()\n",
    "#client.auth.get_new_token()\n",
    "#client.auth.save_token(token=\"Your token here\")\n",
    "\n",
    "\"\"\"\n",
    "dataset_name = 'minnie65_public_v117'\n",
    "client = CAVEclient(dataset_name)\n",
    "cv = cloudvolume.CloudVolume(client.info.segmentation_source(), progress=False)\n",
    "\n",
    "#using the google cloud segmentation path\n",
    "#cv = cloudvolume.CloudVolume(\"precomputed://gs://iarpa_microns/minnie/minnie65/seg\", use_https=True)\n",
    "#cv = cloudvolume.CloudVolume(\"precomputed://gs://allen-minnie-phase3/minniephase3-emily-pcg-skeletons/minnie_all\", use_https=True)\n",
    "\n",
    "# to enable to cache the mesh data, create a MeshMeta object:\n",
    "mm = trimesh_io.MeshMeta(cv_path = client.info.segmentation_source(),\n",
    "                         disk_cache_path='minnie65_v117_meshes',\n",
    "                         map_gs_to_https=True)\n",
    "\"\"\"\n"
   ]
  },
  {
   "cell_type": "code",
   "execution_count": 47,
   "metadata": {},
   "outputs": [],
   "source": [
    "datafolder = os.path.join(os.path.expanduser('~'), 'work', 'pv-sst-dendrites',\n",
    "                          'data', 'SchneiderMizell_et_al_2023', 'skeletons', 'meshwork')\n",
    "mesh = meshwork.load_meshwork(os.path.join(datafolder, '864691137053906294.h5'))"
   ]
  },
  {
   "cell_type": "code",
   "execution_count": 54,
   "metadata": {},
   "outputs": [
    {
     "ename": "IndexError",
     "evalue": "only integers, slices (`:`), ellipsis (`...`), numpy.newaxis (`None`) and integer or boolean arrays are valid indices",
     "output_type": "error",
     "traceback": [
      "\u001b[0;31m---------------------------------------------------------------------------\u001b[0m",
      "\u001b[0;31mIndexError\u001b[0m                                Traceback (most recent call last)",
      "Cell \u001b[0;32mIn[54], line 1\u001b[0m\n\u001b[0;32m----> 1\u001b[0m \u001b[43mmesh\u001b[49m\u001b[38;5;241;43m.\u001b[39;49m\u001b[43mvertices\u001b[49m\u001b[43m[\u001b[49m\u001b[43mmesh\u001b[49m\u001b[38;5;241;43m.\u001b[39;49m\u001b[43manno\u001b[49m\u001b[43m[\u001b[49m\u001b[38;5;124;43m'\u001b[39;49m\u001b[38;5;124;43mis_dendrite\u001b[39;49m\u001b[38;5;124;43m'\u001b[39;49m\u001b[43m]\u001b[49m\u001b[43m]\u001b[49m\n",
      "\u001b[0;31mIndexError\u001b[0m: only integers, slices (`:`), ellipsis (`...`), numpy.newaxis (`None`) and integer or boolean arrays are valid indices"
     ]
    }
   ],
   "source": [
    "mesh.vertices[mesh.anno['is_dendrite']]"
   ]
  },
  {
   "cell_type": "code",
   "execution_count": 49,
   "metadata": {},
   "outputs": [],
   "source": [
    "itkwidgets.view?"
   ]
  },
  {
   "cell_type": "code",
   "execution_count": 2,
   "metadata": {},
   "outputs": [
    {
     "data": {
      "application/vnd.jupyter.widget-view+json": {
       "model_id": "6ed64f70db0940348b43116dba4f909c",
       "version_major": 2,
       "version_minor": 0
      },
      "text/plain": [
       "Viewer(geometries=[{'vtkClass': 'vtkPolyData', 'points': {'vtkClass': 'vtkPoints', 'name': '_points', 'numberO…"
      ]
     },
     "metadata": {},
     "output_type": "display_data"
    }
   ],
   "source": [
    "mesh = meshwork.load_meshwork('minnie65_v117_meshes/864691137053906294.h5')\n",
    "poly_data = trimesh_vtk.trimesh_to_vtk(mesh.vertices, mesh.faces, None)\n",
    "#setting up an itkwidgets viewer\n",
    "viewer=itkwidgets.view(geometries=[poly_data])\n",
    "viewer"
   ]
  },
  {
   "cell_type": "markdown",
   "metadata": {},
   "source": [
    "# Basket Cell example"
   ]
  },
  {
   "cell_type": "code",
   "execution_count": 3,
   "metadata": {},
   "outputs": [],
   "source": [
    "#selected one:\n",
    "BC_ID = 864691135269913253\n",
    "# see the Plot_Morphologies notebook to see them all\n",
    "mesh = mm.mesh(seg_id=BC_ID) # and download it / just load it"
   ]
  },
  {
   "cell_type": "code",
   "execution_count": 8,
   "metadata": {},
   "outputs": [
    {
     "data": {
      "application/vnd.jupyter.widget-view+json": {
       "model_id": "39cc72a5d37c464192c79c1fd345af0e",
       "version_major": 2,
       "version_minor": 0
      },
      "text/plain": [
       "Viewer(geometries=[{'vtkClass': 'vtkPolyData', 'points': {'vtkClass': 'vtkPoints', 'name': '_points', 'numberO…"
      ]
     },
     "metadata": {},
     "output_type": "display_data"
    }
   ],
   "source": [
    "poly_data = trimesh_vtk.trimesh_to_vtk(mesh.vertices, mesh.faces, None)\n",
    "\n",
    "#setting up an itkwidgets viewer\n",
    "viewer=itkwidgets.view(geometries=[poly_data])\n",
    "viewer"
   ]
  },
  {
   "cell_type": "markdown",
   "metadata": {},
   "source": [
    "### with synapses"
   ]
  },
  {
   "cell_type": "code",
   "execution_count": 8,
   "metadata": {},
   "outputs": [
    {
     "data": {
      "application/vnd.jupyter.widget-view+json": {
       "model_id": "299b001c408346cf8e0e1861691b8d26",
       "version_major": 2,
       "version_minor": 0
      },
      "text/plain": [
       "Viewer(geometries=[{'vtkClass': 'vtkPolyData', 'points': {'vtkClass': 'vtkPoints', 'name': '_points', 'numberO…"
      ]
     },
     "metadata": {},
     "output_type": "display_data"
    }
   ],
   "source": [
    "cellid = BC_ID\n",
    "mesh = cv.mesh.get(cellid,lod=3)[cellid]\n",
    "\n",
    "post_synapse_df = client.materialize.synapse_query(post_ids = np.array([cellid]))\n",
    "\n",
    "poly_data = trimesh_vtk.trimesh_to_vtk(mesh.vertices, mesh.faces, None)\n",
    "\n",
    "voxel_resolution = np.array([4,4,40])#setting the voxel resolution to convert to nm\n",
    "syn_pts = np.vstack(post_synapse_df['ctr_pt_position'].values) * voxel_resolution\n",
    "syn_sizes = np.array(post_synapse_df['size'].values)\n",
    "viewerBC =itkwidgets.view(geometries=[poly_data],\n",
    "                          point_sets = [syn_pts],\n",
    "                          #point_sets_sizes=[syn_sizes],\n",
    "                          point_sets_colors = ['g'])\n",
    "viewerBC"
   ]
  },
  {
   "cell_type": "markdown",
   "metadata": {},
   "source": [
    "# Martinotti Cell example"
   ]
  },
  {
   "cell_type": "code",
   "execution_count": 5,
   "metadata": {},
   "outputs": [],
   "source": [
    "#MC_ID = 864691135467660940"
   ]
  },
  {
   "cell_type": "code",
   "execution_count": null,
   "metadata": {},
   "outputs": [],
   "source": [
    "MC_ID = 864691137053906294 # L23 many synapses\n",
    "meshw"
   ]
  },
  {
   "cell_type": "code",
   "execution_count": 6,
   "metadata": {},
   "outputs": [
    {
     "name": "stderr",
     "output_type": "stream",
     "text": [
      "Downloading Meshes: 100%|███████████████████████████████████████████████████████| 1/1 [01:02<00:00, 62.15s/it]"
     ]
    },
    {
     "name": "stdout",
     "output_type": "stream",
     "text": [
      "Warning: deduplication not currently supported for this layer's variable layered draco meshes\n"
     ]
    },
    {
     "name": "stderr",
     "output_type": "stream",
     "text": [
      "\n"
     ]
    }
   ],
   "source": [
    "#selected one:\n",
    "#MC_ID = 864691137053906294 # L23 many synapses\n",
    "#MC_ID = 864691135754910674 # L23 but small\n",
    "MC_ID = 864691135467660940 # L5 few synapses\n",
    "# see the Plot_Morphologies notebook to see them all\n",
    "mesh = mm.mesh(seg_id=MC_ID) # and download it / just load it"
   ]
  },
  {
   "cell_type": "code",
   "execution_count": 7,
   "metadata": {},
   "outputs": [
    {
     "data": {
      "application/vnd.jupyter.widget-view+json": {
       "model_id": "b49c8412d35b4c97b2b6f8da634d1b06",
       "version_major": 2,
       "version_minor": 0
      },
      "text/plain": [
       "Viewer(geometries=[{'vtkClass': 'vtkPolyData', 'points': {'vtkClass': 'vtkPoints', 'name': '_points', 'numberO…"
      ]
     },
     "metadata": {},
     "output_type": "display_data"
    }
   ],
   "source": [
    "poly_data = trimesh_vtk.trimesh_to_vtk(mesh.vertices, mesh.faces, None)\n",
    "\n",
    "#setting up an itkwidgets viewer\n",
    "viewer=itkwidgets.view(geometries=[poly_data])\n",
    "viewer"
   ]
  },
  {
   "cell_type": "code",
   "execution_count": 8,
   "metadata": {},
   "outputs": [],
   "source": [
    "# what MC IDs are available as meshes for display ?\n",
    "MC_IDs = [864691135954232584, 864691135969342309, 864691135467660940,\n",
    "          864691135737246596, 864691135575445022, 864691135988665856,\n",
    "          864691135683637746, 864691135571546917, 864691135575425822,\n",
    "           864691135502364341, 864691135618117263, 864691135386843521,\n",
    "           864691135939865345, 864691137053906294, 864691135463913541,\n",
    "           864691135416083642, 864691135800027234, 864691135754152141,\n",
    "           864691136143786292, 864691135687245024, 864691135754910674,\n",
    "           864691135256626095, 864691137197468481, 864691135374222153,\n",
    "           864691136451445247, 864691136966045646, 864691136602069713,\n",
    "           864691136109238200, 864691136065953688, 864691135851060423,\n",
    "           864691135323181212, 864691135925834510, 864691135373819592,\n",
    "           864691135404114414, 864691135660772080, 864691135699572514,\n",
    "           864691135884162160, 864691135082074103, 864691135777016928,\n",
    "           864691135577304325, 864691135058985115]\n",
    "for i, ID in enumerate(MC_IDs):\n",
    "    try:\n",
    "        mesh = cv.mesh.get(ID)[ID]\n",
    "        print(i+1, ID)\n",
    "    except BaseException:\n",
    "        pass"
   ]
  },
  {
   "cell_type": "code",
   "execution_count": 10,
   "metadata": {
    "scrolled": true
   },
   "outputs": [
    {
     "data": {
      "application/vnd.jupyter.widget-view+json": {
       "model_id": "7861909fc1394ffc9277e099aa8737f1",
       "version_major": 2,
       "version_minor": 0
      },
      "text/plain": [
       "Viewer(geometries=[{'vtkClass': 'vtkPolyData', 'points': {'vtkClass': 'vtkPoints', 'name': '_points', 'numberO…"
      ]
     },
     "metadata": {},
     "output_type": "display_data"
    }
   ],
   "source": [
    "viewer"
   ]
  },
  {
   "cell_type": "markdown",
   "metadata": {},
   "source": [
    "## Showing both together"
   ]
  },
  {
   "cell_type": "code",
   "execution_count": 25,
   "metadata": {},
   "outputs": [],
   "source": [
    "cellid = MC_ID\n",
    "mesh = cv.mesh.get(cellid,lod=3)[cellid]\n",
    "poly_data1 = trimesh_vtk.trimesh_to_vtk(mesh.vertices, mesh.faces, None)\n",
    "cellid = BC_ID\n",
    "mesh = cv.mesh.get(cellid,lod=3)[cellid]\n",
    "poly_data2 = trimesh_vtk.trimesh_to_vtk(mesh.vertices, mesh.faces, None)\n",
    "\n",
    "#setting up an itkwidgets viewer\n",
    "viewer=itkwidgets.view(geometries=[poly_data1, poly_data2])"
   ]
  },
  {
   "cell_type": "code",
   "execution_count": 26,
   "metadata": {},
   "outputs": [
    {
     "data": {
      "application/vnd.jupyter.widget-view+json": {
       "model_id": "785d3f1fba6840ea889adf6501cd35f5",
       "version_major": 2,
       "version_minor": 0
      },
      "text/plain": [
       "Viewer(geometries=[{'vtkClass': 'vtkPolyData', 'points': {'vtkClass': 'vtkPoints', 'name': '_points', 'numberO…"
      ]
     },
     "metadata": {},
     "output_type": "display_data"
    }
   ],
   "source": [
    "viewer"
   ]
  },
  {
   "cell_type": "markdown",
   "metadata": {},
   "source": [
    "## Basket cell with synapses"
   ]
  },
  {
   "cell_type": "code",
   "execution_count": 6,
   "metadata": {},
   "outputs": [
    {
     "data": {
      "application/vnd.jupyter.widget-view+json": {
       "model_id": "ef7a64d051a9483382a8c4bcc68ca88a",
       "version_major": 2,
       "version_minor": 0
      },
      "text/plain": [
       "Viewer(geometries=[{'vtkClass': 'vtkPolyData', 'points': {'vtkClass': 'vtkPoints', 'name': '_points', 'numberO…"
      ]
     },
     "metadata": {},
     "output_type": "display_data"
    }
   ],
   "source": [
    "cellid = BC_ID\n",
    "\n",
    "mesh = cv.mesh.get(cellid,lod=3)[cellid]\n",
    "\n",
    "post_synapse_df = client.materialize.synapse_query(post_ids = np.array([cellid]))\n",
    "\n",
    "poly_data = trimesh_vtk.trimesh_to_vtk(mesh.vertices, mesh.faces, None)\n",
    "\n",
    "voxel_resolution = np.array([4,4,40])#setting the voxel resolution to convert to nm\n",
    "syn_pts = np.vstack(post_synapse_df['ctr_pt_position'].values) * voxel_resolution\n",
    "syn_sizes = np.array(post_synapse_df['size'].values)\n",
    "viewerBC =itkwidgets.view(geometries=[poly_data],\n",
    "                          point_sets = [syn_pts],\n",
    "                          #point_sets_sizes=[syn_sizes],\n",
    "                          point_sets_colors = ['r'])\n",
    "viewerBC"
   ]
  },
  {
   "cell_type": "code",
   "execution_count": 27,
   "metadata": {},
   "outputs": [
    {
     "data": {
      "application/vnd.jupyter.widget-view+json": {
       "model_id": "2462ea2b28b34c26af73cc0e9e050ce9",
       "version_major": 2,
       "version_minor": 0
      },
      "text/plain": [
       "Viewer(geometries=[{'vtkClass': 'vtkPolyData', 'points': {'vtkClass': 'vtkPoints', 'name': '_points', 'numberO…"
      ]
     },
     "metadata": {},
     "output_type": "display_data"
    }
   ],
   "source": [
    "cellid = MC_ID\n",
    "\n",
    "mesh = cv.mesh.get(cellid,lod=3)[cellid]\n",
    "poly_data = trimesh_vtk.trimesh_to_vtk(mesh.vertices, mesh.faces, None)\n",
    "\n",
    "post_synapse_df = client.materialize.synapse_query(post_ids = np.array([cellid]))\n",
    "\n",
    "voxel_resolution = np.array([4,4,40])#setting the voxel resolution to convert to nm\n",
    "syn_pts = np.vstack(post_synapse_df['ctr_pt_position'].values) * voxel_resolution\n",
    "syn_sizes = np.array(post_synapse_df['size'].values)\n",
    "viewerMC =itkwidgets.view(geometries=[poly_data],\n",
    "                          point_sets = [syn_pts],\n",
    "                          #point_sets_sizes=[syn_sizes],\n",
    "                          point_sets_colors = ['r'])\n",
    "viewerMC"
   ]
  },
  {
   "cell_type": "markdown",
   "metadata": {},
   "source": [
    "## More controlled rendering with `trimesh_vtk.render_actor`"
   ]
  },
  {
   "cell_type": "code",
   "execution_count": null,
   "metadata": {},
   "outputs": [
    {
     "name": "stderr",
     "output_type": "stream",
     "text": [
      "libGL error: MESA-LOADER: failed to open iris: /usr/lib/dri/iris_dri.so: cannot open shared object file: No such file or directory (search paths /usr/lib/x86_64-linux-gnu/dri:\\$${ORIGIN}/dri:/usr/lib/dri, suffix _dri)\n",
      "libGL error: failed to load driver: iris\n",
      "ERROR:root:Cannot create GLX context.  Aborting.\n"
     ]
    }
   ],
   "source": [
    "cellid = MC_ID\n",
    "\n",
    "# mesh\n",
    "mesh = cv.mesh.get(cellid,lod=3)[cellid]\n",
    "mesh_actors = trimesh_vtk.mesh_actor(mesh, color=(0, 0, 0.4))\n",
    "voxel_resolution = np.array([4,4,40])#setting the voxel resolution to convert to nm\n",
    "\n",
    "# synapses\n",
    "post_synapse_df = client.materialize.synapse_query(post_ids = np.array([cellid]))\n",
    "syn_pts = np.vstack(post_synapse_df['ctr_pt_position'].values) * voxel_resolution\n",
    "syn_sizes = np.array(post_synapse_df['size'].values)\n",
    "syn_actors = trimesh_vtk.point_cloud_actor(syn_pts, size=syn_sizes/20, color=(1, 0, 0))\n",
    "#                                           color=[() for i in range(len(syn_pts))])\n",
    "\n",
    "#camera = trimesh_vtk.camera_from_quat()\n",
    "trimesh_vtk.render_actors([syn_actors, mesh_actors])"
   ]
  },
  {
   "cell_type": "code",
   "execution_count": 69,
   "metadata": {},
   "outputs": [],
   "source": [
    "trimesh_vtk.camera_from_quat?"
   ]
  }
 ],
 "metadata": {
  "kernelspec": {
   "display_name": "Python 3 (ipykernel)",
   "language": "python",
   "name": "python3"
  },
  "language_info": {
   "codemirror_mode": {
    "name": "ipython",
    "version": 3
   },
   "file_extension": ".py",
   "mimetype": "text/x-python",
   "name": "python",
   "nbconvert_exporter": "python",
   "pygments_lexer": "ipython3",
   "version": "3.10.11"
  }
 },
 "nbformat": 4,
 "nbformat_minor": 2
}
