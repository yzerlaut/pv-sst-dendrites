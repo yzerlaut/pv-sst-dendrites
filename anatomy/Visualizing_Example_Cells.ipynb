{
 "cells": [
  {
   "cell_type": "markdown",
   "metadata": {},
   "source": [
    "# Visualizing Example Cells"
   ]
  },
  {
   "cell_type": "code",
   "execution_count": 74,
   "metadata": {},
   "outputs": [],
   "source": [
    "import os\n",
    "from meshparty import trimesh_io, trimesh_vtk, meshwork\n",
    "from caveclient import CAVEclient\n",
    "import numpy as np\n",
    "import pandas as pd\n",
    "import cloudvolume\n",
    "import itkwidgets\n",
    "\n",
    "#setting up the cave client, if you have not done this before checkout the notebook CAVEsetup.ipynb at \n",
    "#https://github.com/AllenInstitute/MicronsBinder/blob/master/notebooks/mm3_intro/CAVEsetup.ipynb\n",
    "#client = CAVEclient()\n",
    "#client.auth.get_new_token()\n",
    "#client.auth.save_token(token=\"Your token here\")\n",
    "\n",
    "\"\"\"\n",
    "dataset_name = 'minnie65_public_v117'\n",
    "client = CAVEclient(dataset_name)\n",
    "cv = cloudvolume.CloudVolume(client.info.segmentation_source(), progress=False)\n",
    "# to enable to cache the mesh data, create a MeshMeta object:\n",
    "mm = trimesh_io.MeshMeta(cv_path = client.info.segmentation_source(),\n",
    "                         disk_cache_path='minnie65_v117_meshes',\n",
    "                         map_gs_to_https=True)\n",
    "\"\"\"\n",
    "\n",
    "cv = cloudvolume.CloudVolume(\"precomputed://gs://iarpa_microns/minnie/minnie65/seg\", use_https=True)"
   ]
  },
  {
   "cell_type": "markdown",
   "metadata": {},
   "source": [
    "## Find matching elements across different databases\n",
    "\n",
    "*sometimes the same cell can correspond to different `root_id` on different databases*\n",
    "\n",
    "1. Find the soma coordinates of the element of interest (e.g `864691135687245024`)\n",
    "    ```\n",
    "    import pandas\n",
    "    em_data = pandas.read_csv('../data/em_connectomics_mesh_skeletons_directory_proof_status.csv')\n",
    "    ID = 864691135687245024\n",
    "    em_data['pt_position'][em_data['root_id']==ID]\n",
    "    ```\n",
    "2. go to neuroglancer: https://ngl.microns-explorer.org\n",
    "\n",
    "    - go to that position (top left coordinates)\n",
    "    - find the other `root_id` that corresponds to that object\n",
    "   \n",
    "3. Download the associated mesh from the precomputed mesh database:\n",
    "    ```\n",
    "    MC_ID = 864691135367179769\n",
    "    cv = cloudvolume.CloudVolume(\"precomputed://gs://iarpa_microns/minnie/minnie65/seg\", use_https=True)\n",
    "    mesh = cv.mesh.get(MC_ID,lod=3)[MC_ID]\n",
    "    ```\n"
   ]
  },
  {
   "cell_type": "markdown",
   "metadata": {},
   "source": [
    "## Showing both the Basket and Martinotti cells in the Cortical Column"
   ]
  },
  {
   "cell_type": "code",
   "execution_count": 72,
   "metadata": {},
   "outputs": [
    {
     "data": {
      "application/vnd.jupyter.widget-view+json": {
       "model_id": "502e9fab8f0d4aa18632f31f4028a335",
       "version_major": 2,
       "version_minor": 0
      },
      "text/plain": [
       "Viewer(geometries=[{'vtkClass': 'vtkPolyData', 'points': {'vtkClass': 'vtkPoints', 'name': '_points', 'numberO…"
      ]
     },
     "metadata": {},
     "output_type": "display_data"
    }
   ],
   "source": [
    "MC_ID = 864691135367179769\n",
    "mesh1 = cv.mesh.get(MC_ID,lod=3)[MC_ID]\n",
    "poly_data1 = trimesh_vtk.trimesh_to_vtk(mesh1.vertices, mesh1.faces, None)\n",
    "\n",
    "BC_ID = 864691135269913253\n",
    "mesh2 = cv.mesh.get(BC_ID,lod=3)[BC_ID]\n",
    "poly_data2 = trimesh_vtk.trimesh_to_vtk(mesh2.vertices, mesh2.faces, None)\n",
    "\n",
    "L5P_ID = 864691135627205572\n",
    "mesh3 = cv.mesh.get(L5P_ID,lod=3)[L5P_ID]\n",
    "poly_data3 = trimesh_vtk.trimesh_to_vtk(mesh3.vertices, mesh3.faces, None)\n",
    "\n",
    "#setting up an itkwidgets viewer\n",
    "viewer=itkwidgets.view(geometries=[poly_data2, poly_data1, poly_data3])\n",
    "\n",
    "viewer"
   ]
  },
  {
   "cell_type": "markdown",
   "metadata": {},
   "source": [
    "# Basket Cell example"
   ]
  },
  {
   "cell_type": "code",
   "execution_count": 3,
   "metadata": {},
   "outputs": [],
   "source": [
    "#selected one:\n",
    "BC_ID = 864691135269913253\n",
    "# see the Plot_Morphologies notebook to see them all\n",
    "mesh = mm.mesh(seg_id=BC_ID) # and download it / just load it"
   ]
  },
  {
   "cell_type": "code",
   "execution_count": 8,
   "metadata": {},
   "outputs": [
    {
     "data": {
      "application/vnd.jupyter.widget-view+json": {
       "model_id": "39cc72a5d37c464192c79c1fd345af0e",
       "version_major": 2,
       "version_minor": 0
      },
      "text/plain": [
       "Viewer(geometries=[{'vtkClass': 'vtkPolyData', 'points': {'vtkClass': 'vtkPoints', 'name': '_points', 'numberO…"
      ]
     },
     "metadata": {},
     "output_type": "display_data"
    }
   ],
   "source": [
    "poly_data = trimesh_vtk.trimesh_to_vtk(mesh.vertices, mesh.faces, None)\n",
    "\n",
    "#setting up an itkwidgets viewer\n",
    "viewer=itkwidgets.view(geometries=[poly_data])\n",
    "viewer"
   ]
  },
  {
   "cell_type": "markdown",
   "metadata": {},
   "source": [
    "### with synapses"
   ]
  },
  {
   "cell_type": "code",
   "execution_count": 75,
   "metadata": {},
   "outputs": [
    {
     "ename": "AttributeError",
     "evalue": "'CAVEclientGlobal' object has no attribute 'materialize'",
     "output_type": "error",
     "traceback": [
      "\u001b[0;31m---------------------------------------------------------------------------\u001b[0m",
      "\u001b[0;31mAttributeError\u001b[0m                            Traceback (most recent call last)",
      "Cell \u001b[0;32mIn [75], line 4\u001b[0m\n\u001b[1;32m      1\u001b[0m cellid \u001b[38;5;241m=\u001b[39m BC_ID\n\u001b[1;32m      2\u001b[0m mesh \u001b[38;5;241m=\u001b[39m cv\u001b[38;5;241m.\u001b[39mmesh\u001b[38;5;241m.\u001b[39mget(cellid,lod\u001b[38;5;241m=\u001b[39m\u001b[38;5;241m3\u001b[39m)[cellid]\n\u001b[0;32m----> 4\u001b[0m post_synapse_df \u001b[38;5;241m=\u001b[39m client\u001b[38;5;241m.\u001b[39mmaterialize\u001b[38;5;241m.\u001b[39msynapse_query(post_ids \u001b[38;5;241m=\u001b[39m np\u001b[38;5;241m.\u001b[39marray([cellid]))\n\u001b[1;32m      6\u001b[0m poly_data \u001b[38;5;241m=\u001b[39m trimesh_vtk\u001b[38;5;241m.\u001b[39mtrimesh_to_vtk(mesh\u001b[38;5;241m.\u001b[39mvertices, mesh\u001b[38;5;241m.\u001b[39mfaces, \u001b[38;5;28;01mNone\u001b[39;00m)\n\u001b[1;32m      8\u001b[0m voxel_resolution \u001b[38;5;241m=\u001b[39m np\u001b[38;5;241m.\u001b[39marray([\u001b[38;5;241m4\u001b[39m,\u001b[38;5;241m4\u001b[39m,\u001b[38;5;241m40\u001b[39m])\u001b[38;5;66;03m#setting the voxel resolution to convert to nm\u001b[39;00m\n",
      "\u001b[0;31mAttributeError\u001b[0m: 'CAVEclientGlobal' object has no attribute 'materialize'"
     ]
    }
   ],
   "source": [
    "cellid = BC_ID\n",
    "mesh = cv.mesh.get(cellid,lod=3)[cellid]\n",
    "\n",
    "post_synapse_df = client.materialize.synapse_query(post_ids = np.array([cellid]))\n",
    "\n",
    "poly_data = trimesh_vtk.trimesh_to_vtk(mesh.vertices, mesh.faces, None)\n",
    "\n",
    "voxel_resolution = np.array([4,4,40])#setting the voxel resolution to convert to nm\n",
    "syn_pts = np.vstack(post_synapse_df['ctr_pt_position'].values) * voxel_resolution\n",
    "syn_sizes = np.array(post_synapse_df['size'].values)\n",
    "viewerBC =itkwidgets.view(geometries=[poly_data],\n",
    "                          point_sets = [syn_pts],\n",
    "                          #point_sets_sizes=[syn_sizes],\n",
    "                          point_sets_colors = ['g'])\n",
    "viewerBC"
   ]
  },
  {
   "cell_type": "markdown",
   "metadata": {},
   "source": [
    "# Martinotti Cell example"
   ]
  },
  {
   "cell_type": "code",
   "execution_count": 5,
   "metadata": {},
   "outputs": [],
   "source": [
    "#MC_ID = 864691135467660940"
   ]
  },
  {
   "cell_type": "code",
   "execution_count": null,
   "metadata": {},
   "outputs": [],
   "source": [
    "MC_ID = 864691137053906294 # L23 many synapses\n",
    "meshw"
   ]
  },
  {
   "cell_type": "code",
   "execution_count": 33,
   "metadata": {},
   "outputs": [
    {
     "data": {
      "application/vnd.jupyter.widget-view+json": {
       "model_id": "495381ab942e4ee88813bf80882c128c",
       "version_major": 2,
       "version_minor": 0
      },
      "text/plain": [
       "Viewer(geometries=[{'vtkClass': 'vtkPolyData', 'points': {'vtkClass': 'vtkPoints', 'name': '_points', 'numberO…"
      ]
     },
     "metadata": {},
     "output_type": "display_data"
    }
   ],
   "source": [
    "MC_ID = 864691135367179769\n",
    "mesh1 = cv.mesh.get(MC_ID,lod=3)[MC_ID]\n",
    "poly_data1 = trimesh_vtk.trimesh_to_vtk(mesh1.vertices, mesh1.faces, None)\n",
    "\n",
    "#setting up an itkwidgets viewer\n",
    "viewer=itkwidgets.view(geometries=[poly_data1])\n",
    "\n",
    "viewer"
   ]
  },
  {
   "cell_type": "code",
   "execution_count": 7,
   "metadata": {},
   "outputs": [
    {
     "data": {
      "application/vnd.jupyter.widget-view+json": {
       "model_id": "b49c8412d35b4c97b2b6f8da634d1b06",
       "version_major": 2,
       "version_minor": 0
      },
      "text/plain": [
       "Viewer(geometries=[{'vtkClass': 'vtkPolyData', 'points': {'vtkClass': 'vtkPoints', 'name': '_points', 'numberO…"
      ]
     },
     "metadata": {},
     "output_type": "display_data"
    }
   ],
   "source": [
    "poly_data = trimesh_vtk.trimesh_to_vtk(mesh.vertices, mesh.faces, None)\n",
    "\n",
    "#setting up an itkwidgets viewer\n",
    "viewer=itkwidgets.view(geometries=[poly_data])\n",
    "viewer"
   ]
  },
  {
   "cell_type": "code",
   "execution_count": 10,
   "metadata": {
    "scrolled": true
   },
   "outputs": [
    {
     "data": {
      "application/vnd.jupyter.widget-view+json": {
       "model_id": "7861909fc1394ffc9277e099aa8737f1",
       "version_major": 2,
       "version_minor": 0
      },
      "text/plain": [
       "Viewer(geometries=[{'vtkClass': 'vtkPolyData', 'points': {'vtkClass': 'vtkPoints', 'name': '_points', 'numberO…"
      ]
     },
     "metadata": {},
     "output_type": "display_data"
    }
   ],
   "source": [
    "viewer"
   ]
  },
  {
   "cell_type": "markdown",
   "metadata": {},
   "source": [
    "## Showing both together"
   ]
  },
  {
   "cell_type": "code",
   "execution_count": 12,
   "metadata": {},
   "outputs": [
    {
     "data": {
      "text/plain": [
       "Mesh(vertices<123839>, faces<216766>, normals<0>, segid=None, encoding_type=<draco>)"
      ]
     },
     "execution_count": 12,
     "metadata": {},
     "output_type": "execute_result"
    }
   ],
   "source": [
    "mesh"
   ]
  },
  {
   "cell_type": "code",
   "execution_count": 4,
   "metadata": {},
   "outputs": [],
   "source": [
    "cellid = 864691135367179769\n",
    "mesh = cv.mesh.get(cellid,lod=3)[cellid]\n",
    "poly_data = trimesh_vtk.trimesh_to_vtk(mesh.vertices, mesh.faces, None)\n",
    "\n",
    "#setting up an itkwidgets viewer\n",
    "viewer=itkwidgets.view(geometries=[poly_data])"
   ]
  },
  {
   "cell_type": "code",
   "execution_count": 5,
   "metadata": {},
   "outputs": [
    {
     "data": {
      "application/vnd.jupyter.widget-view+json": {
       "model_id": "3eb7df99514041d4863a91f4a8810050",
       "version_major": 2,
       "version_minor": 0
      },
      "text/plain": [
       "Viewer(geometries=[{'vtkClass': 'vtkPolyData', 'points': {'vtkClass': 'vtkPoints', 'name': '_points', 'numberO…"
      ]
     },
     "metadata": {},
     "output_type": "display_data"
    }
   ],
   "source": [
    "viewer"
   ]
  },
  {
   "cell_type": "code",
   "execution_count": 17,
   "metadata": {},
   "outputs": [
    {
     "data": {
      "application/vnd.jupyter.widget-view+json": {
       "model_id": "e529bf3e6a6f4a8091d5b5dc84be6b7f",
       "version_major": 2,
       "version_minor": 0
      },
      "text/plain": [
       "Viewer(geometries=[{'vtkClass': 'vtkPolyData', 'points': {'vtkClass': 'vtkPoints', 'name': '_points', 'numberO…"
      ]
     },
     "metadata": {},
     "output_type": "display_data"
    }
   ],
   "source": []
  },
  {
   "cell_type": "markdown",
   "metadata": {},
   "source": [
    "## Basket cell with synapses"
   ]
  },
  {
   "cell_type": "code",
   "execution_count": 6,
   "metadata": {},
   "outputs": [
    {
     "data": {
      "application/vnd.jupyter.widget-view+json": {
       "model_id": "ef7a64d051a9483382a8c4bcc68ca88a",
       "version_major": 2,
       "version_minor": 0
      },
      "text/plain": [
       "Viewer(geometries=[{'vtkClass': 'vtkPolyData', 'points': {'vtkClass': 'vtkPoints', 'name': '_points', 'numberO…"
      ]
     },
     "metadata": {},
     "output_type": "display_data"
    }
   ],
   "source": [
    "cellid = BC_ID\n",
    "\n",
    "mesh = cv.mesh.get(cellid,lod=3)[cellid]\n",
    "\n",
    "post_synapse_df = client.materialize.synapse_query(post_ids = np.array([cellid]))\n",
    "\n",
    "poly_data = trimesh_vtk.trimesh_to_vtk(mesh.vertices, mesh.faces, None)\n",
    "\n",
    "voxel_resolution = np.array([4,4,40])#setting the voxel resolution to convert to nm\n",
    "syn_pts = np.vstack(post_synapse_df['ctr_pt_position'].values) * voxel_resolution\n",
    "syn_sizes = np.array(post_synapse_df['size'].values)\n",
    "viewerBC =itkwidgets.view(geometries=[poly_data],\n",
    "                          point_sets = [syn_pts],\n",
    "                          #point_sets_sizes=[syn_sizes],\n",
    "                          point_sets_colors = ['r'])\n",
    "viewerBC"
   ]
  },
  {
   "cell_type": "code",
   "execution_count": 27,
   "metadata": {},
   "outputs": [
    {
     "data": {
      "application/vnd.jupyter.widget-view+json": {
       "model_id": "2462ea2b28b34c26af73cc0e9e050ce9",
       "version_major": 2,
       "version_minor": 0
      },
      "text/plain": [
       "Viewer(geometries=[{'vtkClass': 'vtkPolyData', 'points': {'vtkClass': 'vtkPoints', 'name': '_points', 'numberO…"
      ]
     },
     "metadata": {},
     "output_type": "display_data"
    }
   ],
   "source": [
    "cellid = MC_ID\n",
    "\n",
    "mesh = cv.mesh.get(cellid,lod=3)[cellid]\n",
    "poly_data = trimesh_vtk.trimesh_to_vtk(mesh.vertices, mesh.faces, None)\n",
    "\n",
    "post_synapse_df = client.materialize.synapse_query(post_ids = np.array([cellid]))\n",
    "\n",
    "voxel_resolution = np.array([4,4,40])#setting the voxel resolution to convert to nm\n",
    "syn_pts = np.vstack(post_synapse_df['ctr_pt_position'].values) * voxel_resolution\n",
    "syn_sizes = np.array(post_synapse_df['size'].values)\n",
    "viewerMC =itkwidgets.view(geometries=[poly_data],\n",
    "                          point_sets = [syn_pts],\n",
    "                          #point_sets_sizes=[syn_sizes],\n",
    "                          point_sets_colors = ['r'])\n",
    "viewerMC"
   ]
  },
  {
   "cell_type": "markdown",
   "metadata": {},
   "source": [
    "## More controlled rendering with `trimesh_vtk.render_actor`"
   ]
  },
  {
   "cell_type": "code",
   "execution_count": null,
   "metadata": {},
   "outputs": [
    {
     "name": "stderr",
     "output_type": "stream",
     "text": [
      "libGL error: MESA-LOADER: failed to open iris: /usr/lib/dri/iris_dri.so: cannot open shared object file: No such file or directory (search paths /usr/lib/x86_64-linux-gnu/dri:\\$${ORIGIN}/dri:/usr/lib/dri, suffix _dri)\n",
      "libGL error: failed to load driver: iris\n",
      "ERROR:root:Cannot create GLX context.  Aborting.\n"
     ]
    }
   ],
   "source": [
    "cellid = MC_ID\n",
    "\n",
    "# mesh\n",
    "mesh = cv.mesh.get(cellid,lod=3)[cellid]\n",
    "mesh_actors = trimesh_vtk.mesh_actor(mesh, color=(0, 0, 0.4))\n",
    "voxel_resolution = np.array([4,4,40])#setting the voxel resolution to convert to nm\n",
    "\n",
    "# synapses\n",
    "post_synapse_df = client.materialize.synapse_query(post_ids = np.array([cellid]))\n",
    "syn_pts = np.vstack(post_synapse_df['ctr_pt_position'].values) * voxel_resolution\n",
    "syn_sizes = np.array(post_synapse_df['size'].values)\n",
    "syn_actors = trimesh_vtk.point_cloud_actor(syn_pts, size=syn_sizes/20, color=(1, 0, 0))\n",
    "#                                           color=[() for i in range(len(syn_pts))])\n",
    "\n",
    "#camera = trimesh_vtk.camera_from_quat()\n",
    "trimesh_vtk.render_actors([syn_actors, mesh_actors])"
   ]
  },
  {
   "cell_type": "code",
   "execution_count": 69,
   "metadata": {},
   "outputs": [],
   "source": [
    "trimesh_vtk.camera_from_quat?"
   ]
  }
 ],
 "metadata": {
  "kernelspec": {
   "display_name": "Python 3 (ipykernel)",
   "language": "python",
   "name": "python3"
  },
  "language_info": {
   "codemirror_mode": {
    "name": "ipython",
    "version": 3
   },
   "file_extension": ".py",
   "mimetype": "text/x-python",
   "name": "python",
   "nbconvert_exporter": "python",
   "pygments_lexer": "ipython3",
   "version": "3.8.10"
  }
 },
 "nbformat": 4,
 "nbformat_minor": 2
}
