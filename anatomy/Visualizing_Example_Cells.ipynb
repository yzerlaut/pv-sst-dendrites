{
 "cells": [
  {
   "cell_type": "markdown",
   "metadata": {},
   "source": [
    "# Visualizing Example Cells"
   ]
  },
  {
   "cell_type": "code",
   "execution_count": 1,
   "metadata": {},
   "outputs": [],
   "source": [
    "import os\n",
    "from meshparty import trimesh_io, trimesh_vtk, meshwork\n",
    "from caveclient import CAVEclient\n",
    "import numpy as np\n",
    "import pandas as pd\n",
    "import cloudvolume\n",
    "import itkwidgets\n",
    "\n",
    "#setting up the cave client, if you have not done this before checkout the notebook CAVEsetup.ipynb at \n",
    "#https://github.com/AllenInstitute/MicronsBinder/blob/master/notebooks/mm3_intro/CAVEsetup.ipynb\n",
    "\n",
    "client = CAVEclient('minnie65_public_v117')\n",
    "#client.auth.get_new_token()\n",
    "#client.auth.save_token(token=\"c0ac8c614f75648f59f4f29130d3b56d\")\n",
    "\n",
    "\"\"\"\n",
    "dataset_name = 'minnie65_public_v117'\n",
    "client = CAVEclient(dataset_name)\n",
    "cv = cloudvolume.CloudVolume(client.info.segmentation_source(), progress=False)\n",
    "# to enable to cache the mesh data, create a MeshMeta object:\n",
    "mm = trimesh_io.MeshMeta(cv_path = client.info.segmentation_source(),\n",
    "                         disk_cache_path='minnie65_v117_meshes',\n",
    "                         map_gs_to_https=True)\n",
    "\"\"\"\n",
    "\n",
    "cv = cloudvolume.CloudVolume(\"precomputed://gs://iarpa_microns/minnie/minnie65/seg\", use_https=True)"
   ]
  },
  {
   "cell_type": "markdown",
   "metadata": {},
   "source": [
    "## Find matching elements across different databases\n",
    "\n",
    "*sometimes the same cell can correspond to different `root_id` on different databases*\n",
    "\n",
    "1. Find the soma coordinates of the element of interest (e.g `864691135687245024`)\n",
    "    ```\n",
    "    import pandas\n",
    "    em_data = pandas.read_csv('../data/em_connectomics_mesh_skeletons_directory_proof_status.csv')\n",
    "    ID = 864691135687245024\n",
    "    em_data['pt_position'][em_data['root_id']==ID]\n",
    "    ```\n",
    "2. go to neuroglancer: https://ngl.microns-explorer.org\n",
    "\n",
    "    - go to that position (top left coordinates)\n",
    "    - find the other `root_id` that corresponds to that object\n",
    "   \n",
    "3. Download the associated mesh from the precomputed mesh database:\n",
    "    ```\n",
    "    MC_ID = 864691135367179769\n",
    "    cv = cloudvolume.CloudVolume(\"precomputed://gs://iarpa_microns/minnie/minnie65/seg\", use_https=True)\n",
    "    mesh = cv.mesh.get(MC_ID,lod=3)[MC_ID]\n",
    "    ```\n"
   ]
  },
  {
   "cell_type": "markdown",
   "metadata": {},
   "source": [
    "## Showing both the Basket and Martinotti cells in the Cortical Column"
   ]
  },
  {
   "cell_type": "code",
   "execution_count": 2,
   "metadata": {},
   "outputs": [
    {
     "data": {
      "application/vnd.jupyter.widget-view+json": {
       "model_id": "5a498b3f898b450196c95e90b97c03d7",
       "version_major": 2,
       "version_minor": 0
      },
      "text/plain": [
       "Viewer(geometries=[{'vtkClass': 'vtkPolyData', 'points': {'vtkClass': 'vtkPoints', 'name': '_points', 'numberO…"
      ]
     },
     "metadata": {},
     "output_type": "display_data"
    }
   ],
   "source": [
    "MC_ID = 864691135367179769\n",
    "mesh1 = cv.mesh.get(MC_ID,lod=3)[MC_ID]\n",
    "poly_data1 = trimesh_vtk.trimesh_to_vtk(mesh1.vertices, mesh1.faces, None)\n",
    "\n",
    "BC_ID = 864691135269913253\n",
    "mesh2 = cv.mesh.get(BC_ID,lod=3)[BC_ID]\n",
    "poly_data2 = trimesh_vtk.trimesh_to_vtk(mesh2.vertices, mesh2.faces, None)\n",
    "\n",
    "L5P_ID = 864691135627205572\n",
    "mesh3 = cv.mesh.get(L5P_ID,lod=3)[L5P_ID]\n",
    "poly_data3 = trimesh_vtk.trimesh_to_vtk(mesh3.vertices, mesh3.faces, None)\n",
    "\n",
    "#setting up an itkwidgets viewer\n",
    "viewer=itkwidgets.view(geometries=[poly_data2, poly_data1, poly_data3])\n",
    "\n",
    "viewer"
   ]
  },
  {
   "cell_type": "markdown",
   "metadata": {},
   "source": [
    "# Basket cell with synapses"
   ]
  },
  {
   "cell_type": "code",
   "execution_count": 4,
   "metadata": {},
   "outputs": [
    {
     "data": {
      "application/vnd.jupyter.widget-view+json": {
       "model_id": "b2077d3ed7114b0a9621c84642459b44",
       "version_major": 2,
       "version_minor": 0
      },
      "text/plain": [
       "Viewer(geometries=[{'vtkClass': 'vtkPolyData', 'points': {'vtkClass': 'vtkPoints', 'name': '_points', 'numberO…"
      ]
     },
     "metadata": {},
     "output_type": "display_data"
    }
   ],
   "source": [
    "cellid = BC_ID\n",
    "\n",
    "mesh = cv.mesh.get(cellid,lod=3)[cellid]\n",
    "\n",
    "post_synapse_df = client.materialize.synapse_query(post_ids = np.array([cellid]))\n",
    "\n",
    "poly_data = trimesh_vtk.trimesh_to_vtk(mesh.vertices, mesh.faces, None)\n",
    "\n",
    "voxel_resolution = np.array([4,4,40])#setting the voxel resolution to convert to nm\n",
    "syn_pts = np.vstack(post_synapse_df['ctr_pt_position'].values) * voxel_resolution\n",
    "syn_sizes = np.array(post_synapse_df['size'].values)\n",
    "viewerBC =itkwidgets.view(geometries=[poly_data],\n",
    "                          point_sets = [syn_pts],\n",
    "                          #point_sets_sizes=[syn_sizes],\n",
    "                          point_sets_colors = ['r'])\n",
    "viewerBC"
   ]
  },
  {
   "cell_type": "markdown",
   "metadata": {},
   "source": [
    "# Martinotti cell with synapses"
   ]
  },
  {
   "cell_type": "code",
   "execution_count": 5,
   "metadata": {},
   "outputs": [
    {
     "data": {
      "application/vnd.jupyter.widget-view+json": {
       "model_id": "f9cd4da0bea74c53824cc1d6461fe2d0",
       "version_major": 2,
       "version_minor": 0
      },
      "text/plain": [
       "Viewer(geometries=[{'vtkClass': 'vtkPolyData', 'points': {'vtkClass': 'vtkPoints', 'name': '_points', 'numberO…"
      ]
     },
     "metadata": {},
     "output_type": "display_data"
    }
   ],
   "source": [
    "cellid = MC_ID\n",
    "\n",
    "mesh = cv.mesh.get(cellid,lod=3)[cellid]\n",
    "poly_data = trimesh_vtk.trimesh_to_vtk(mesh.vertices, mesh.faces, None)\n",
    "\n",
    "post_synapse_df = client.materialize.synapse_query(post_ids = np.array([cellid]))\n",
    "\n",
    "voxel_resolution = np.array([4,4,40])#setting the voxel resolution to convert to nm\n",
    "syn_pts = np.vstack(post_synapse_df['ctr_pt_position'].values) * voxel_resolution\n",
    "syn_sizes = np.array(post_synapse_df['size'].values)\n",
    "viewerMC =itkwidgets.view(geometries=[poly_data],\n",
    "                          point_sets = [syn_pts],\n",
    "                          #point_sets_sizes=[syn_sizes],\n",
    "                          point_sets_colors = ['r'])\n",
    "viewerMC"
   ]
  },
  {
   "cell_type": "markdown",
   "metadata": {},
   "source": [
    "## More controlled rendering with `trimesh_vtk`"
   ]
  },
  {
   "cell_type": "markdown",
   "metadata": {},
   "source": [
    "### Elements to plot"
   ]
  },
  {
   "cell_type": "code",
   "execution_count": 8,
   "metadata": {},
   "outputs": [],
   "source": [
    "voxel_resolution = np.array([4,4,40])#setting the voxel resolution to convert to nm\n",
    "\n",
    "# --- Martinotti cell\n",
    "mesh_MC = cv.mesh.get(MC_ID,lod=3)[MC_ID]\n",
    "# --- Martinotti cell synapses\n",
    "post_synapse_df = client.materialize.synapse_query(post_ids = np.array([MC_ID]))\n",
    "syn_pts_MC = np.vstack(post_synapse_df['ctr_pt_position'].values) * voxel_resolution\n",
    "\n",
    "# --- Basket cell\n",
    "mesh_BC = cv.mesh.get(BC_ID,lod=3)[BC_ID]\n",
    "# --- Basket cell synapses\n",
    "post_synapse_BC = client.materialize.synapse_query(post_ids = np.array([BC_ID]))\n",
    "syn_pts_BC = np.vstack(post_synapse_BC['ctr_pt_position'].values) * voxel_resolution\n",
    "\n",
    "# --- L5 Pyr. cell\n",
    "mesh_L5P = cv.mesh.get(L5P_ID,lod=3)[L5P_ID]"
   ]
  },
  {
   "cell_type": "markdown",
   "metadata": {},
   "source": [
    "### 1) Choose your camera angle ! \n",
    "    --> press `\"k\"` before closing"
   ]
  },
  {
   "cell_type": "code",
   "execution_count": 84,
   "metadata": {},
   "outputs": [
    {
     "name": "stdout",
     "output_type": "stream",
     "text": [
      "setting up renderer\n",
      "done setting up\n",
      "actors added\n",
      "camera set\n",
      "render done\n",
      "finalizing..\n"
     ]
    }
   ],
   "source": [
    "# --- Martinotti cell\n",
    "mesh_actors_MC = trimesh_vtk.mesh_actor(mesh_MC)\n",
    "# --- Basket cell\n",
    "mesh_actors_BC = trimesh_vtk.mesh_actor(mesh_BC)\n",
    "# --- L5 Pyr cell\n",
    "mesh_actors_L5P = trimesh_vtk.mesh_actor(mesh_L5P, opacity=0.8, color=green)\n",
    "\n",
    "#\n",
    "#   PRESS \"k\" when you are happy with the view !\n",
    "#\n",
    "K = trimesh_vtk.render_actors([mesh_actors_MC, mesh_actors_BC, mesh_actors_L5P],\n",
    "                              return_keyframes=True)\n",
    "Camera = K[-1][0] # we store the last position as the Camera !"
   ]
  },
  {
   "cell_type": "markdown",
   "metadata": {},
   "source": [
    "### 2) Screenshot the the full view"
   ]
  },
  {
   "cell_type": "code",
   "execution_count": 86,
   "metadata": {},
   "outputs": [
    {
     "name": "stdout",
     "output_type": "stream",
     "text": [
      "setting up renderer\n",
      "done setting up\n",
      "actors added\n",
      "camera set\n",
      "render done\n",
      "finalizing..\n"
     ]
    },
    {
     "data": {
      "text/plain": [
       "<vtkmodules.vtkRenderingOpenGL2.vtkOpenGLRenderer(0x5596ca59d480) at 0x7f62d94fb2e0>"
      ]
     },
     "execution_count": 86,
     "metadata": {},
     "output_type": "execute_result"
    }
   ],
   "source": [
    "orange=(1., 0.5, 0.2)\n",
    "red = (1., 0.1, 0.1)\n",
    "green = (0., 0.5, 0.)\n",
    "\n",
    "mesh_actors_MC = trimesh_vtk.mesh_actor(mesh_MC, opacity=0.8, color=orange)\n",
    "mesh_actors_BC = trimesh_vtk.mesh_actor(mesh_BC, opacity=0.6, color=red)\n",
    "mesh_actors_L5P = trimesh_vtk.mesh_actor(mesh_L5P, opacity=0.4, color=green)\n",
    "\n",
    "trimesh_vtk.render_actors([mesh_actors_MC, mesh_actors_BC, mesh_actors_L5P,\n",
    "                               trimesh_vtk.scale_bar_actor(np.array(Camera.GetFocalPoint())-300e3, Camera,\n",
    "                                                           length=10e3*4,\n",
    "                                                           linewidth=1)],\n",
    "                          camera=Camera)"
   ]
  },
  {
   "cell_type": "markdown",
   "metadata": {},
   "source": [
    "### 3) Screenshot the Martinotti cell with synapses"
   ]
  },
  {
   "cell_type": "code",
   "execution_count": null,
   "metadata": {},
   "outputs": [],
   "source": []
  },
  {
   "cell_type": "markdown",
   "metadata": {},
   "source": [
    "### 4) Screenshot the Zoomed Dendritic Branches in the Martinotti cell"
   ]
  },
  {
   "cell_type": "code",
   "execution_count": null,
   "metadata": {},
   "outputs": [],
   "source": [
    "zoom_factor = 20.\n",
    "\n",
    "mesh_actors_MC = trimesh_vtk.mesh_actor(mesh_MC, opacity=0.5, face_colors=orange, color=purple)\n",
    "syn_actors_MC = trimesh_vtk.point_cloud_actor(syn_pts_MC, size=5e2, color=cyan)\n",
    "\n",
    "Camera.Zoom(zoom_factor)\n",
    "trimesh_vtk.render_actors([mesh_actors_MC, syn_actors_MC],camera=Camera)\n",
    "Camera.Zoom(1./zoom_factor)"
   ]
  },
  {
   "cell_type": "markdown",
   "metadata": {},
   "source": [
    "### 5) Screenshot the Basket cell with synapses"
   ]
  },
  {
   "cell_type": "code",
   "execution_count": null,
   "metadata": {},
   "outputs": [],
   "source": []
  },
  {
   "cell_type": "markdown",
   "metadata": {},
   "source": [
    "### 6) Screenshot the Zoomed Dendritic Branches in the Basket cell"
   ]
  },
  {
   "cell_type": "code",
   "execution_count": 94,
   "metadata": {},
   "outputs": [
    {
     "name": "stdout",
     "output_type": "stream",
     "text": [
      "setting up renderer\n",
      "done setting up\n",
      "actors added\n",
      "camera set\n",
      "render done\n",
      "finalizing..\n"
     ]
    }
   ],
   "source": [
    "zoom_factor = 20.\n",
    "\n",
    "mesh_actors_BC = trimesh_vtk.mesh_actor(mesh_BC, opacity=0.5, face_colors=red, color=red)\n",
    "syn_actors_BC = trimesh_vtk.point_cloud_actor(syn_pts_BC, size=5e2, color=cyan)\n",
    "\n",
    "Camera.Zoom(zoom_factor)\n",
    "trimesh_vtk.render_actors([mesh_actors_BC, syn_actors_BC],camera=Camera)\n",
    "Camera.Zoom(1./zoom_factor)"
   ]
  },
  {
   "cell_type": "code",
   "execution_count": 12,
   "metadata": {},
   "outputs": [],
   "source": [
    "trimesh_vtk.oriented_camera?"
   ]
  },
  {
   "cell_type": "code",
   "execution_count": null,
   "metadata": {},
   "outputs": [],
   "source": [
    "trimesh_vtk.render_actors([mesh_actors_MC, mesh_actors_BC])"
   ]
  },
  {
   "cell_type": "code",
   "execution_count": 11,
   "metadata": {},
   "outputs": [],
   "source": [
    "trimesh_vtk.camera_from_quat?"
   ]
  },
  {
   "cell_type": "code",
   "execution_count": 21,
   "metadata": {},
   "outputs": [],
   "source": [
    "trimesh_vtk.render_actors?"
   ]
  },
  {
   "cell_type": "code",
   "execution_count": 74,
   "metadata": {},
   "outputs": [],
   "source": [
    "trimesh_vtk.scale_bar_actor?"
   ]
  },
  {
   "cell_type": "code",
   "execution_count": 60,
   "metadata": {},
   "outputs": [],
   "source": [
    "Camera.Zoom(4)"
   ]
  },
  {
   "cell_type": "code",
   "execution_count": 61,
   "metadata": {},
   "outputs": [],
   "source": [
    "Camera.Zoom(0.25)"
   ]
  },
  {
   "cell_type": "code",
   "execution_count": null,
   "metadata": {},
   "outputs": [],
   "source": []
  }
 ],
 "metadata": {
  "kernelspec": {
   "display_name": "Python 3 (ipykernel)",
   "language": "python",
   "name": "python3"
  },
  "language_info": {
   "codemirror_mode": {
    "name": "ipython",
    "version": 3
   },
   "file_extension": ".py",
   "mimetype": "text/x-python",
   "name": "python",
   "nbconvert_exporter": "python",
   "pygments_lexer": "ipython3",
   "version": "3.8.10"
  }
 },
 "nbformat": 4,
 "nbformat_minor": 2
}
